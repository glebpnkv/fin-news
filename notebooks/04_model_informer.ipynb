{
 "cells": [
  {
   "cell_type": "code",
   "execution_count": null,
   "id": "c5ae7acc-2844-4afe-8a52-459d7c547f73",
   "metadata": {},
   "outputs": [],
   "source": [
    "%load_ext autoreload\n",
    "%autoreload 2"
   ]
  },
  {
   "cell_type": "markdown",
   "id": "8372662a-2ceb-4c2d-889e-3cec4ccb8a65",
   "metadata": {},
   "source": [
    "# Using Article Embeddings to model Asset Returns: Informer\n",
    "\n",
    "Multistep forecasting."
   ]
  },
  {
   "cell_type": "code",
   "execution_count": null,
   "id": "312163c5-3938-4312-a7cc-3f62d829a1e5",
   "metadata": {},
   "outputs": [],
   "source": [
    "import os\n",
    "import sys\n",
    "from pathlib import Path\n",
    "\n",
    "sys.path.append(\n",
    "    Path.cwd().parents[0].as_posix()\n",
    ")\n",
    "\n",
    "import matplotlib.pyplot as plt\n",
    "import numpy as np\n",
    "import pandas as pd\n",
    "import seaborn as sns\n",
    "import torch\n",
    "import torch.optim as optim\n",
    "from accelerate import Accelerator\n",
    "from datasets import Dataset, DatasetDict\n",
    "from gluonts.dataset.field_names import FieldName\n",
    "from gluonts.dataset.common import ListDataset\n",
    "from gluonts.dataset.loader import as_stacked_batches\n",
    "from gluonts.time_feature import time_features_from_frequency_str\n",
    "from gluonts.transform import (\n",
    "    AddAgeFeature, \n",
    "    AddTimeFeatures, \n",
    "    Chain, \n",
    "    InstanceSplitter, \n",
    "    RenameFields,\n",
    "    VstackFeatures\n",
    ")\n",
    "from gluonts.transform.sampler import ExpectedNumInstanceSampler\n",
    "from sklearn.manifold import TSNE\n",
    "from sklearn.metrics import precision_score, recall_score, f1_score, roc_auc_score\n",
    "from torch.utils.data import DataLoader\n",
    "from transformers import InformerConfig, InformerForPrediction\n",
    "\n",
    "from finnews.datasets import InformerFusionDataset\n",
    "from finnews.models import InformerFusionModel"
   ]
  },
  {
   "cell_type": "code",
   "execution_count": null,
   "id": "1fcbd522-8258-4e2a-833f-6b647b54ff88",
   "metadata": {},
   "outputs": [],
   "source": [
    "accelerator = Accelerator()\n",
    "device = accelerator.device"
   ]
  },
  {
   "cell_type": "markdown",
   "id": "aea39be7-fc19-46a6-a41f-75df00c01212",
   "metadata": {},
   "source": [
    "# Defines"
   ]
  },
  {
   "cell_type": "code",
   "execution_count": null,
   "id": "0785de8b-ed76-4748-8d12-8c594c7f491e",
   "metadata": {},
   "outputs": [],
   "source": [
    "root_input_dir = os.path.join(\"data\", \"processed\")\n",
    "\n",
    "train_start = \"2010-01-01\"\n",
    "val_start = \"2023-06-01\"\n",
    "test_start = \"2023-09-01\"\n",
    "\n",
    "holding_period = 14"
   ]
  },
  {
   "cell_type": "markdown",
   "id": "41381303-90f2-460b-9f67-7f67cea0f97f",
   "metadata": {},
   "source": [
    "# Data"
   ]
  },
  {
   "cell_type": "markdown",
   "id": "1f59f2d8-3d6e-48c1-99fb-fa6ddb2fb7e7",
   "metadata": {
    "jp-MarkdownHeadingCollapsed": true
   },
   "source": [
    "## Raw"
   ]
  },
  {
   "cell_type": "code",
   "execution_count": null,
   "id": "23ca34e9-04fe-4972-a718-fe55b3afeb0a",
   "metadata": {},
   "outputs": [],
   "source": [
    "df_prices = pd.read_parquet(\n",
    "    os.path.join(root_input_dir, \"prices.parquet\")\n",
    ").sort_values(\n",
    "    by=[\"symbol\", \"date\"],\n",
    "    ignore_index=True\n",
    ")"
   ]
  },
  {
   "cell_type": "code",
   "execution_count": null,
   "id": "55e08e84-61f9-4746-a8ce-3b51971bb70f",
   "metadata": {},
   "outputs": [],
   "source": [
    "df_articles_meta = pd.read_parquet(\n",
    "    os.path.join(root_input_dir, \"articles.parquet\"),\n",
    "    columns=[\"date\", \"symbol\", \"article\"]\n",
    ")"
   ]
  },
  {
   "cell_type": "code",
   "execution_count": null,
   "id": "48c034d1-24d0-43c0-8811-afe86b3a155c",
   "metadata": {},
   "outputs": [],
   "source": [
    "articles = torch.load(\n",
    "    os.path.join(root_input_dir, \"embeddings.pt\"),\n",
    "    weights_only=True,\n",
    "    map_location=device\n",
    ")"
   ]
  },
  {
   "cell_type": "code",
   "execution_count": null,
   "id": "af473d24-99a8-4237-93e3-cc1a5bfa2c79",
   "metadata": {},
   "outputs": [],
   "source": [
    "# The number of articles should equal to the number of embeddings\n",
    "assert (df_articles_meta.shape[0] == articles.shape[0])"
   ]
  },
  {
   "cell_type": "markdown",
   "id": "d539538e-95f9-47f4-9485-9912ae1d5af3",
   "metadata": {
    "jp-MarkdownHeadingCollapsed": true
   },
   "source": [
    "## Returns\n",
    "\n",
    "Open-to-open next day ahead log returns:\n",
    "\n",
    "- Strategy implies we buy and sell on market open (simplifying assumption)\n",
    "- Easier for multiscale (just add up returns)\n",
    "- Returns on non-business days are 0 (model will handle this via time embeddings)\n",
    "- Trimming to coinside with the start of articles"
   ]
  },
  {
   "cell_type": "code",
   "execution_count": null,
   "id": "a5771d69-49d8-4c79-9c0c-d0f6faa64412",
   "metadata": {},
   "outputs": [],
   "source": [
    "df_ret = df_prices[[\"date\", \"symbol\"]].copy()\n",
    "\n",
    "# you buy today\n",
    "df_ret[\"ret\"] = -np.log(df_prices[\"open\"])\n",
    "# you sell tomorrow\n",
    "df_ret[\"ret\"] += np.log(df_prices.groupby('symbol')[\"open\"].shift(-1))"
   ]
  },
  {
   "cell_type": "code",
   "execution_count": null,
   "id": "d1afba9b-53d2-4355-bdca-de5e6fdc8e31",
   "metadata": {},
   "outputs": [],
   "source": [
    "# Adding non-business days and setting their returns to 0\n",
    "df_ret = df_ret.set_index(\n",
    "    ['symbol', 'date']\n",
    ").sort_index().groupby(\n",
    "    level=\"symbol\"\n",
    ").apply(\n",
    "    lambda x: x.reset_index(\n",
    "        level=\"symbol\", \n",
    "        drop=True\n",
    "    ).reindex(\n",
    "        pd.date_range(\n",
    "            start=x.index.get_level_values(\"date\").min(),\n",
    "            end=x.index.get_level_values(\"date\").max(),\n",
    "        ),\n",
    "        level=\"date\"\n",
    "    ),\n",
    ").fillna(0)\n",
    "\n",
    "df_ret.index.rename([df_ret.index.names[0], \"date\"], inplace=True)\n",
    "df_ret = df_ret.reset_index()"
   ]
  },
  {
   "cell_type": "code",
   "execution_count": null,
   "id": "42125604-8da4-4066-aacf-f9ecdeaabc86",
   "metadata": {},
   "outputs": [],
   "source": [
    "# Trimming to articles\n",
    "start_dates = df_articles_meta.groupby(\n",
    "    \"symbol\"\n",
    ")[\"date\"].min().to_dict()\n",
    "\n",
    "df_ret = df_ret.groupby('symbol', as_index=True).apply(\n",
    "    lambda x: x.loc[x[\"date\"] >= start_dates[x.name]],\n",
    "    include_groups=False\n",
    ").droplevel(level=-1).reset_index()"
   ]
  },
  {
   "cell_type": "markdown",
   "id": "38669561-4715-4cfa-8b6d-42d1fcfa7e8d",
   "metadata": {
    "jp-MarkdownHeadingCollapsed": true
   },
   "source": [
    "## Articles\n",
    "\n",
    "- Multiple articles on any given day are averaged\n",
    "- Timestamps are shifted forward to align with returns\n",
    "- Zero embedding is used to denote days where there were no news articles"
   ]
  },
  {
   "cell_type": "code",
   "execution_count": null,
   "id": "8a01540f-b5fc-4428-92a5-2908ad13324a",
   "metadata": {},
   "outputs": [],
   "source": [
    "df_articles_meta_agg = df_articles_meta.groupby(\n",
    "    [\"date\", \"symbol\"]\n",
    ").apply(\n",
    "    lambda x: x.index.tolist(), \n",
    "    include_groups=False\n",
    ").to_frame(\n",
    "    \"indices\"\n",
    ").reset_index()\n",
    "\n",
    "df_articles_meta_agg = df_articles_meta_agg.sort_values(\n",
    "    [\"symbol\", \"date\"],\n",
    "    ignore_index=True\n",
    ")\n",
    "\n",
    "# We can respond to today's news tomorrow\n",
    "df_articles_meta_agg[\"date\"] += pd.Timedelta(\"1d\")\n",
    "\n",
    "# Conforming to df_ret\n",
    "df_articles_meta_agg = df_articles_meta_agg.set_index(\n",
    "    [\"symbol\", \"date\"]\n",
    ")\n",
    "df_articles_meta_agg = df_articles_meta_agg.reindex(\n",
    "    df_ret.set_index([\"symbol\", \"date\"]).index\n",
    ")"
   ]
  },
  {
   "cell_type": "code",
   "execution_count": null,
   "id": "c5d9afaa-bbd4-47b5-9523-77368eaf683a",
   "metadata": {},
   "outputs": [],
   "source": [
    "# Should be the case\n",
    "df_articles_meta_agg.shape[0] == df_ret.shape[0]"
   ]
  },
  {
   "cell_type": "code",
   "execution_count": null,
   "id": "8f20652b-38da-4236-a767-44ac96e6ac75",
   "metadata": {},
   "outputs": [],
   "source": [
    "articles_agg = torch.stack(\n",
    "    [\n",
    "        articles[x].mean(axis=0) if ~np.isnan(x).all() else torch.zeros_like(articles[0])\n",
    "        for x in df_articles_meta_agg[\"indices\"].tolist()\n",
    "    ],\n",
    "    axis=0\n",
    ")"
   ]
  },
  {
   "cell_type": "markdown",
   "id": "8f9d40c1-0552-405c-b20d-3f64386eaa0f",
   "metadata": {},
   "source": [
    "# Model Config"
   ]
  },
  {
   "cell_type": "code",
   "execution_count": null,
   "id": "262c884d-d2fe-4de8-bd6e-66e2f040f1d8",
   "metadata": {},
   "outputs": [],
   "source": [
    "prediction_length = holding_period\n",
    "context_length = 64 # How many articles from the past we are using\n",
    "distribution_output = \"normal\"\n",
    "input_size = 1  # Univariate model\n",
    "lags_sequence = [1]  # Not adding lags as additional features\n",
    "scaling = None  # Data is already scaled\n",
    "d_model = articles.shape[-1]  # Ease of use \n",
    "freq = \"1d\"\n",
    "\n",
    "dropout = 0.1\n",
    "encoder_layers = 4\n",
    "decoder_layers = 4\n",
    "num_parallel_samples = 25\n",
    "epochs = 10"
   ]
  },
  {
   "cell_type": "code",
   "execution_count": null,
   "id": "70541867-96f5-4dd9-ba99-efd0fab1c8f0",
   "metadata": {},
   "outputs": [],
   "source": [
    "time_features = time_features_from_frequency_str(freq)"
   ]
  },
  {
   "cell_type": "code",
   "execution_count": null,
   "id": "e5f93a58-e8f6-4e4d-bda5-186f95647897",
   "metadata": {},
   "outputs": [],
   "source": [
    "model_config = InformerConfig(\n",
    "    prediction_length=holding_period,\n",
    "    context_length=context_length,\n",
    "    input_size=input_size,\n",
    "    lags_sequence=lags_sequence,\n",
    "    scaling=scaling,\n",
    "    num_time_features=len(time_features) + 1,\n",
    "    dropout=dropout,\n",
    "    encoder_layers=encoder_layers,\n",
    "    decoder_layers=decoder_layers,\n",
    "    d_model=d_model,\n",
    "    distribution_output=distribution_output,\n",
    "    num_parallel_samples=num_parallel_samples\n",
    ")"
   ]
  },
  {
   "cell_type": "markdown",
   "id": "a84c8331-12ef-4ad7-8e6c-e9f1fa00f2cd",
   "metadata": {},
   "source": [
    "# Data"
   ]
  },
  {
   "cell_type": "code",
   "execution_count": null,
   "id": "e2a03590-f3c5-4fba-a172-f54b71b8b4ae",
   "metadata": {},
   "outputs": [],
   "source": [
    "batch_size = 64"
   ]
  },
  {
   "cell_type": "code",
   "execution_count": null,
   "id": "69111be7-8ae5-440e-9f8f-a14e9db10268",
   "metadata": {},
   "outputs": [],
   "source": [
    "idc = InformerFusionDataset(\n",
    "    input_size=input_size,\n",
    "    d_model=d_model,\n",
    "    context_length=context_length,\n",
    "    prediction_length=prediction_length,\n",
    "    dropout=dropout,\n",
    "    encoder_layers=encoder_layers,\n",
    "    decoder_layers=decoder_layers,\n",
    "    lags_sequence=lags_sequence,\n",
    "    distribution_output=distribution_output,\n",
    "    scaling=scaling,\n",
    "    freq=freq\n",
    ")"
   ]
  },
  {
   "cell_type": "code",
   "execution_count": null,
   "id": "979174fa-ad10-4edd-85dc-1fb8ec79c3e4",
   "metadata": {},
   "outputs": [],
   "source": [
    "ds_train = idc.create_dataloader(\n",
    "    df=df_ret.loc[\n",
    "        df_ret[\"date\"] < val_start\n",
    "    ],\n",
    "    articles_agg=articles_agg,\n",
    "    mode=\"train\",\n",
    "    num_instances=500,\n",
    "    batch_size=batch_size\n",
    ")\n",
    "\n",
    "ds_val = idc.create_dataloader(\n",
    "    df=df_ret.loc[\n",
    "        (df_ret[\"date\"] >= val_start)\n",
    "        & (df_ret[\"date\"] < test_start)\n",
    "    ],\n",
    "    articles_agg=articles_agg,\n",
    "    mode=\"validation\",\n",
    "    batch_size=batch_size\n",
    ")\n",
    "\n",
    "ds_test = idc.create_dataloader(\n",
    "    df=df_ret.loc[\n",
    "        (df_ret[\"date\"] >= test_start)\n",
    "    ],\n",
    "    articles_agg=articles_agg,\n",
    "    mode=\"test\",\n",
    "    batch_size=batch_size\n",
    ")"
   ]
  },
  {
   "cell_type": "markdown",
   "id": "8f9c1ce5-12cd-4e5f-a2dd-417eef1bd244",
   "metadata": {},
   "source": [
    "# Model: `InformerFusionModel`\n",
    "\n",
    "A modified implementation of `InformerForPrediction` from `transformers` package:\n",
    "- Adds an option to feed article embeddings."
   ]
  },
  {
   "cell_type": "code",
   "execution_count": null,
   "id": "f54f8e3c-d6ad-406c-b88a-26166fa9b508",
   "metadata": {},
   "outputs": [],
   "source": [
    "from torch.optim import AdamW\n",
    "from finnews.models.train import train_informer_fusion"
   ]
  },
  {
   "cell_type": "code",
   "execution_count": null,
   "id": "8bf68888-e455-4b63-9da7-ed5df1e8b8b9",
   "metadata": {},
   "outputs": [],
   "source": [
    "model = InformerFusionModel(\n",
    "    config=model_config\n",
    ")"
   ]
  },
  {
   "cell_type": "code",
   "execution_count": null,
   "id": "8f6cad2b-b1de-4c44-a3cc-ed1855cc8c89",
   "metadata": {},
   "outputs": [],
   "source": [
    "epochs = 3\n",
    "\n",
    "cur_timestamp = pd.Timestamp.now().strftime('%d_%m_%Y_%H_%M_%S')\n",
    "model_save_dir = os.path.join(\n",
    "    \"models\",\n",
    "    \"InformerFusion\",\n",
    "    cur_timestamp\n",
    ")\n",
    "os.makedirs(model_save_dir, exist_ok=True)"
   ]
  },
  {
   "cell_type": "code",
   "execution_count": null,
   "id": "80bdf163-8486-425d-9483-40b4bc1aa9d3",
   "metadata": {},
   "outputs": [],
   "source": [
    "optimizer = AdamW(model.parameters(), lr=5e-4, betas=(0.9, 0.95), weight_decay=1e-1)"
   ]
  },
  {
   "cell_type": "code",
   "execution_count": null,
   "id": "64ac6980-27be-44ed-a320-0b1a6b98d8ed",
   "metadata": {},
   "outputs": [],
   "source": [
    "train_informer_fusion(\n",
    "    model=model,\n",
    "    optimizer=optimizer,\n",
    "    dataloader_train=ds_train,\n",
    "    dataloader_val=ds_val,\n",
    "    save_dir=model_save_dir,\n",
    "    epochs=epochs\n",
    ")"
   ]
  }
 ],
 "metadata": {
  "kernelspec": {
   "display_name": "Python 3 (ipykernel)",
   "language": "python",
   "name": "python3"
  },
  "language_info": {
   "codemirror_mode": {
    "name": "ipython",
    "version": 3
   },
   "file_extension": ".py",
   "mimetype": "text/x-python",
   "name": "python",
   "nbconvert_exporter": "python",
   "pygments_lexer": "ipython3",
   "version": "3.12.9"
  }
 },
 "nbformat": 4,
 "nbformat_minor": 5
}
