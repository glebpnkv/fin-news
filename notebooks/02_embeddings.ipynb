{
 "cells": [
  {
   "cell_type": "code",
   "execution_count": null,
   "id": "b4f6fd09-7d11-4868-a0dc-4375d35c8b52",
   "metadata": {},
   "outputs": [],
   "source": [
    "import os\n",
    "\n",
    "import torch\n",
    "from langchain.document_loaders.csv_loader import CSVLoader\n",
    "from sentence_transformers import SentenceTransformer"
   ]
  },
  {
   "cell_type": "code",
   "execution_count": null,
   "id": "5f8f1fe0-a43b-44e8-8ac2-1d3ad1df7026",
   "metadata": {},
   "outputs": [],
   "source": [
    "root_input_dir = os.path.join(\"data\", \"raw\")\n",
    "root_output_dir = os.path.join(\"data\", \"processed\")"
   ]
  },
  {
   "cell_type": "markdown",
   "id": "0a9ab35d-dc66-4463-8b60-e8b35a9af9d6",
   "metadata": {},
   "source": [
    "# Creating Article Embeddings"
   ]
  },
  {
   "cell_type": "code",
   "execution_count": null,
   "id": "1665f686-b33a-4177-b91e-11c01cf996ba",
   "metadata": {},
   "outputs": [],
   "source": [
    "loader = CSVLoader(\n",
    "    file_path=os.path.join(root_output_dir, \"articles.csv\"),\n",
    "    source_column=\"article\"\n",
    ")"
   ]
  },
  {
   "cell_type": "code",
   "execution_count": null,
   "id": "3a966059-7a85-40ff-b70c-9be802c2e96a",
   "metadata": {},
   "outputs": [],
   "source": [
    "documents = loader.load()"
   ]
  },
  {
   "cell_type": "code",
   "execution_count": null,
   "id": "bd0e46d6-b879-4f1d-824d-03b491807888",
   "metadata": {},
   "outputs": [],
   "source": [
    "model = SentenceTransformer('sentence-transformers/all-mpnet-base-v2')"
   ]
  },
  {
   "cell_type": "code",
   "execution_count": null,
   "id": "54416b23-ed46-4c40-bea3-707047205708",
   "metadata": {},
   "outputs": [],
   "source": [
    "embeds = model.encode(\n",
    "    [d.page_content for d in documents],\n",
    "    batch_size=64,\n",
    "    show_progress_bar=True,\n",
    "    convert_to_tensor=True\n",
    ")"
   ]
  },
  {
   "cell_type": "code",
   "execution_count": null,
   "id": "b7c665b2-f26e-42ca-94b5-99f1bff6ac20",
   "metadata": {},
   "outputs": [],
   "source": [
    "embeds.shape"
   ]
  },
  {
   "cell_type": "code",
   "execution_count": null,
   "id": "b541fe93-783f-4ebd-832f-eb7b711f0973",
   "metadata": {},
   "outputs": [],
   "source": [
    "torch.save(\n",
    "    embeds,\n",
    "    os.path.join(root_output_dir, \"embeddings.pt\")\n",
    ")"
   ]
  }
 ],
 "metadata": {
  "kernelspec": {
   "display_name": "Python 3 (ipykernel)",
   "language": "python",
   "name": "python3"
  },
  "language_info": {
   "codemirror_mode": {
    "name": "ipython",
    "version": 3
   },
   "file_extension": ".py",
   "mimetype": "text/x-python",
   "name": "python",
   "nbconvert_exporter": "python",
   "pygments_lexer": "ipython3",
   "version": "3.12.8"
  }
 },
 "nbformat": 4,
 "nbformat_minor": 5
}
