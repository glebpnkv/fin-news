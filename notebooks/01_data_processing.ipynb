{
 "cells": [
  {
   "cell_type": "code",
   "execution_count": null,
   "id": "b118b1a4-ac2b-4ef8-8e55-3b301c4c14f5",
   "metadata": {},
   "outputs": [],
   "source": [
    "import os\n",
    "import sys\n",
    "from pathlib import Path\n",
    "\n",
    "sys.path.append(\n",
    "    Path.cwd().parents[0].as_posix()\n",
    ")"
   ]
  },
  {
   "cell_type": "code",
   "execution_count": null,
   "id": "905121cc-7d5f-4c31-8ac4-79ac94a895d3",
   "metadata": {},
   "outputs": [],
   "source": [
    "import pandas as pd\n",
    "import polars as pl\n",
    "\n",
    "from finnews.data import load_and_merge_csv_files"
   ]
  },
  {
   "cell_type": "markdown",
   "id": "bd153aef-1bdd-41df-8a67-69751fbcda86",
   "metadata": {},
   "source": [
    "# Defines"
   ]
  },
  {
   "cell_type": "code",
   "execution_count": null,
   "id": "9255013f-7f05-4669-9d58-566e00fd456e",
   "metadata": {},
   "outputs": [],
   "source": [
    "root_input_dir = os.path.join(\"data\", \"raw\")\n",
    "root_output_dir = os.path.join(\"data\", \"processed\")\n",
    "\n",
    "n_symbols = 20\n",
    "etf_symbols = [\n",
    "    \"PMAY\",\n",
    "]\n",
    "\n",
    "train_start = \"2010-01-01\"\n",
    "val_start = \"2023-06-01\"\n",
    "test_start = \"2023-09-01\""
   ]
  },
  {
   "cell_type": "markdown",
   "id": "d772055d-22e5-4ca3-b5ec-086900e1fb18",
   "metadata": {},
   "source": [
    "# Articles\n",
    "\n",
    "Selecting a sample of stocks and articles:\n",
    "\n",
    "- Top 30\n",
    "- From 2010"
   ]
  },
  {
   "cell_type": "code",
   "execution_count": null,
   "id": "7a1651ec-2670-4c99-ab62-cbf490951aaa",
   "metadata": {},
   "outputs": [],
   "source": [
    "article_path = os.path.join(root_input_dir, \"nasdaq_exteral_data.csv\")"
   ]
  },
  {
   "cell_type": "code",
   "execution_count": null,
   "id": "38bdf071-3ea8-43f5-a79a-70292630bc36",
   "metadata": {},
   "outputs": [],
   "source": [
    "dl = pl.scan_csv(article_path)"
   ]
  },
  {
   "cell_type": "code",
   "execution_count": null,
   "id": "7a5681d2-509d-4a47-9c50-1cc092e07fb1",
   "metadata": {},
   "outputs": [],
   "source": [
    "dl.collect_schema().names()"
   ]
  },
  {
   "cell_type": "code",
   "execution_count": null,
   "id": "6eabfc24-b5af-4e1d-b639-c7698a72dde5",
   "metadata": {},
   "outputs": [],
   "source": [
    "dl = (\n",
    "    dl\n",
    "    .with_columns(\n",
    "        pl.col(\"Date\")\n",
    "        .str.strptime(\n",
    "            pl.Datetime(time_zone=\"UTC\"), \n",
    "            \"%Y-%m-%d %H:%M:%S %Z\", \n",
    "            strict=True\n",
    "        )\n",
    "        .dt.date()\n",
    "        .alias(\"date\")\n",
    "    )\n",
    "    .with_columns(\n",
    "        pl.col(\"Unnamed: 0\")\n",
    "        .cast(pl.Int32)\n",
    "        .alias(\"index\")\n",
    "    )\n",
    ")"
   ]
  },
  {
   "cell_type": "code",
   "execution_count": null,
   "id": "a041b445-03b0-4d79-a284-bcd874b4fa83",
   "metadata": {},
   "outputs": [],
   "source": [
    "daily_counts = (\n",
    "    dl\n",
    "    .group_by(\n",
    "        [\"date\", \"Stock_symbol\"]\n",
    "    )\n",
    "    .agg(\n",
    "        count=pl.len()\n",
    "    )\n",
    "    .collect(streaming=True)\n",
    ")"
   ]
  },
  {
   "cell_type": "code",
   "execution_count": null,
   "id": "426819bb-b710-4b24-be73-9bdb83f676ab",
   "metadata": {},
   "outputs": [],
   "source": [
    "df_daily_counts = daily_counts.to_pandas()"
   ]
  },
  {
   "cell_type": "code",
   "execution_count": null,
   "id": "b6cd4467-8c3b-485c-bc48-b0b8c3a1d3be",
   "metadata": {},
   "outputs": [],
   "source": [
    "df_sample = df_daily_counts.loc[\n",
    "    (~df_daily_counts[\"Stock_symbol\"].isin(etf_symbols))\n",
    "    & (df_daily_counts[\"date\"] >= train_start)\n",
    "].groupby(\n",
    "    \"Stock_symbol\",\n",
    "    as_index=False\n",
    ")[[\"count\"]].sum().sort_values(\n",
    "    by=\"count\",\n",
    "    ascending=False,\n",
    "    ignore_index=True\n",
    ").head(n_symbols)"
   ]
  },
  {
   "cell_type": "code",
   "execution_count": null,
   "id": "97a5adb5-d22d-47a6-9a6d-5c5adf718a7f",
   "metadata": {},
   "outputs": [],
   "source": [
    "df_sample[\"count\"].sum()"
   ]
  },
  {
   "cell_type": "code",
   "execution_count": null,
   "id": "4cd280e7-dbac-489a-bf47-736416625885",
   "metadata": {},
   "outputs": [],
   "source": [
    "df_sample"
   ]
  },
  {
   "cell_type": "code",
   "execution_count": null,
   "id": "12cf9aa6-c8c4-4530-9189-b331792b3a5b",
   "metadata": {},
   "outputs": [],
   "source": [
    "symbols = df_sample[\"Stock_symbol\"].tolist()"
   ]
  },
  {
   "cell_type": "code",
   "execution_count": null,
   "id": "78547cf0-d03e-4fae-9ea3-9fe88798fb51",
   "metadata": {},
   "outputs": [],
   "source": [
    "dl_sample = dl.filter(\n",
    "    (pl.col(\"Stock_symbol\").is_in(symbols))\n",
    "    & (pl.col(\"date\") >= pd.to_datetime(train_start).to_pydatetime())\n",
    ").select(\n",
    "    [\"index\", \"date\", \"Stock_symbol\", \"Article\"]\n",
    ").rename(\n",
    "    {\n",
    "        \"Stock_symbol\": \"symbol\",\n",
    "        \"Article\": \"article\"\n",
    "    }\n",
    ")"
   ]
  },
  {
   "cell_type": "code",
   "execution_count": null,
   "id": "fb476c67-04e2-4560-ac08-99214a52e417",
   "metadata": {},
   "outputs": [],
   "source": [
    "dl_sample.select([\"index\", \"date\", \"symbol\", \"article\"]).sink_csv(\n",
    "    os.path.join(root_output_dir, \"articles.csv\")\n",
    ")"
   ]
  },
  {
   "cell_type": "code",
   "execution_count": null,
   "id": "09f32de8-5408-4edb-9a7e-7daec26a189d",
   "metadata": {},
   "outputs": [],
   "source": [
    "dl_sample.select([\"index\", \"date\", \"symbol\", \"article\"]).sink_parquet(\n",
    "    os.path.join(root_output_dir, \"articles.parquet\")\n",
    ")"
   ]
  },
  {
   "cell_type": "markdown",
   "id": "ee726b19-6bc9-46ee-a13f-d3ff51df013c",
   "metadata": {},
   "source": [
    "# Prices"
   ]
  },
  {
   "cell_type": "code",
   "execution_count": null,
   "id": "f62f13b7-6669-4b52-bb52-7443b5e4e84d",
   "metadata": {},
   "outputs": [],
   "source": [
    "df_prices = load_and_merge_csv_files(\n",
    "    directory=\"data/raw/full_history\",\n",
    "    symbols=symbols\n",
    ")"
   ]
  },
  {
   "cell_type": "code",
   "execution_count": null,
   "id": "5abfeeb2-14d1-4c97-847b-6284bbf7375b",
   "metadata": {},
   "outputs": [],
   "source": [
    "df_prices.loc[\n",
    "    df_prices[\"date\"] >= train_start\n",
    "].reset_index(\n",
    "    drop=True\n",
    ").to_parquet(\n",
    "    os.path.join(root_output_dir, \"prices.parquet\")\n",
    ")"
   ]
  }
 ],
 "metadata": {
  "kernelspec": {
   "display_name": "Python 3 (ipykernel)",
   "language": "python",
   "name": "python3"
  },
  "language_info": {
   "codemirror_mode": {
    "name": "ipython",
    "version": 3
   },
   "file_extension": ".py",
   "mimetype": "text/x-python",
   "name": "python",
   "nbconvert_exporter": "python",
   "pygments_lexer": "ipython3",
   "version": "3.12.8"
  }
 },
 "nbformat": 4,
 "nbformat_minor": 5
}
