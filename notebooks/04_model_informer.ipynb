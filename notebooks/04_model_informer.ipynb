{
 "cells": [
  {
   "cell_type": "markdown",
   "id": "8372662a-2ceb-4c2d-889e-3cec4ccb8a65",
   "metadata": {},
   "source": [
    "# Using Article Embeddings to model Asset Returns: Informer\n",
    "\n",
    "Multistep forecasting."
   ]
  },
  {
   "cell_type": "code",
   "execution_count": 1,
   "id": "312163c5-3938-4312-a7cc-3f62d829a1e5",
   "metadata": {},
   "outputs": [],
   "source": [
    "import os\n",
    "import sys\n",
    "from pathlib import Path\n",
    "\n",
    "sys.path.append(\n",
    "    Path.cwd().parents[0].as_posix()\n",
    ")\n",
    "\n",
    "import matplotlib.pyplot as plt\n",
    "import numpy as np\n",
    "import pandas as pd\n",
    "import seaborn as sns\n",
    "import torch\n",
    "from accelerate import Accelerator\n",
    "from gluonts.time_feature import time_features_from_frequency_str\n",
    "from sklearn.metrics import precision_score, recall_score, f1_score, roc_auc_score\n",
    "from torch.optim import AdamW\n",
    "from transformers import InformerConfig\n",
    "from tqdm.auto import tqdm\n",
    "\n",
    "from finnews.datasets import InformerFusionDataset\n",
    "from finnews.models import InformerFusionModel\n",
    "from finnews.models.train import train_informer_fusion"
   ]
  },
  {
   "cell_type": "code",
   "execution_count": 2,
   "id": "1fcbd522-8258-4e2a-833f-6b647b54ff88",
   "metadata": {},
   "outputs": [],
   "source": [
    "accelerator = Accelerator()\n",
    "device = accelerator.device"
   ]
  },
  {
   "cell_type": "markdown",
   "id": "aea39be7-fc19-46a6-a41f-75df00c01212",
   "metadata": {},
   "source": [
    "# Defines"
   ]
  },
  {
   "cell_type": "code",
   "execution_count": 3,
   "id": "0785de8b-ed76-4748-8d12-8c594c7f491e",
   "metadata": {},
   "outputs": [],
   "source": [
    "root_input_dir = os.path.join(\"data\", \"processed\")\n",
    "\n",
    "train_start = \"2010-01-01\"\n",
    "val_start = \"2023-06-01\"\n",
    "test_start = \"2023-09-01\"\n",
    "\n",
    "holding_period = 14"
   ]
  },
  {
   "cell_type": "markdown",
   "id": "41381303-90f2-460b-9f67-7f67cea0f97f",
   "metadata": {},
   "source": [
    "# Data"
   ]
  },
  {
   "cell_type": "markdown",
   "id": "1f59f2d8-3d6e-48c1-99fb-fa6ddb2fb7e7",
   "metadata": {},
   "source": [
    "## Raw"
   ]
  },
  {
   "cell_type": "code",
   "execution_count": 4,
   "id": "23ca34e9-04fe-4972-a718-fe55b3afeb0a",
   "metadata": {},
   "outputs": [],
   "source": [
    "df_prices = pd.read_parquet(\n",
    "    os.path.join(root_input_dir, \"prices.parquet\")\n",
    ").sort_values(\n",
    "    by=[\"symbol\", \"date\"],\n",
    "    ignore_index=True\n",
    ")"
   ]
  },
  {
   "cell_type": "code",
   "execution_count": 5,
   "id": "55e08e84-61f9-4746-a8ce-3b51971bb70f",
   "metadata": {},
   "outputs": [],
   "source": [
    "df_articles_meta = pd.read_parquet(\n",
    "    os.path.join(root_input_dir, \"articles.parquet\"),\n",
    "    columns=[\"date\", \"symbol\", \"article\"]\n",
    ")"
   ]
  },
  {
   "cell_type": "code",
   "execution_count": 6,
   "id": "48c034d1-24d0-43c0-8811-afe86b3a155c",
   "metadata": {},
   "outputs": [],
   "source": [
    "articles = torch.load(\n",
    "    os.path.join(root_input_dir, \"embeddings.pt\"),\n",
    "    weights_only=True,\n",
    "    map_location=device\n",
    ")"
   ]
  },
  {
   "cell_type": "code",
   "execution_count": 7,
   "id": "af473d24-99a8-4237-93e3-cc1a5bfa2c79",
   "metadata": {},
   "outputs": [],
   "source": [
    "# The number of articles should equal to the number of embeddings\n",
    "assert (df_articles_meta.shape[0] == articles.shape[0])"
   ]
  },
  {
   "cell_type": "markdown",
   "id": "d539538e-95f9-47f4-9485-9912ae1d5af3",
   "metadata": {},
   "source": [
    "## Returns\n",
    "\n",
    "Open-to-open next day ahead log returns:\n",
    "\n",
    "- Strategy implies we buy and sell on market open (simplifying assumption)\n",
    "- Easier for multiscale (just add up returns)\n",
    "- Returns on non-business days are 0 (model will handle this via time embeddings)\n",
    "- Trimming to coinside with the start of articles"
   ]
  },
  {
   "cell_type": "code",
   "execution_count": 8,
   "id": "a5771d69-49d8-4c79-9c0c-d0f6faa64412",
   "metadata": {},
   "outputs": [],
   "source": [
    "df_ret = df_prices[[\"date\", \"symbol\"]].copy()\n",
    "\n",
    "# you buy today\n",
    "df_ret[\"ret\"] = -np.log(df_prices[\"open\"])\n",
    "# you sell tomorrow\n",
    "df_ret[\"ret\"] += np.log(df_prices.groupby('symbol')[\"open\"].shift(-1))"
   ]
  },
  {
   "cell_type": "code",
   "execution_count": 9,
   "id": "95a6491e-3717-4c15-b6c7-1c6f805e77ec",
   "metadata": {},
   "outputs": [],
   "source": [
    "# Adding non-business days and setting their returns to 0\n",
    "df_ret = df_ret.set_index(\n",
    "    ['symbol', 'date']\n",
    ").sort_index().groupby(\n",
    "    level=\"symbol\"\n",
    ").apply(\n",
    "    lambda x: x.reset_index(\n",
    "        level=\"symbol\", \n",
    "        drop=True\n",
    "    ).reindex(\n",
    "        pd.date_range(\n",
    "            start=x.index.get_level_values(\"date\").min(),\n",
    "            end=x.index.get_level_values(\"date\").max(),\n",
    "        ),\n",
    "        level=\"date\"\n",
    "    ),\n",
    ")\n",
    "\n",
    "df_ret[\"bus_day\"] = df_ret[\"ret\"].notna().astype(int)  # Mask for \n",
    "df_ret[\"ret\"] = df_ret[\"ret\"].fillna(0)\n",
    "\n",
    "df_ret.index.rename([df_ret.index.names[0], \"date\"], inplace=True)\n",
    "df_ret = df_ret.reset_index()"
   ]
  },
  {
   "cell_type": "code",
   "execution_count": 10,
   "id": "42125604-8da4-4066-aacf-f9ecdeaabc86",
   "metadata": {},
   "outputs": [],
   "source": [
    "# Trimming to articles\n",
    "start_dates = df_articles_meta.groupby(\n",
    "    \"symbol\"\n",
    ")[\"date\"].min().to_dict()\n",
    "\n",
    "df_ret = df_ret.groupby('symbol', as_index=True).apply(\n",
    "    lambda x: x.loc[x[\"date\"] >= start_dates[x.name]],\n",
    "    include_groups=False\n",
    ").droplevel(level=-1).reset_index()"
   ]
  },
  {
   "cell_type": "markdown",
   "id": "38669561-4715-4cfa-8b6d-42d1fcfa7e8d",
   "metadata": {},
   "source": [
    "## Articles\n",
    "\n",
    "- Multiple articles on any given day are averaged\n",
    "- Timestamps are shifted forward to align with returns\n",
    "- Zero embedding is used to denote days where there were no news articles"
   ]
  },
  {
   "cell_type": "code",
   "execution_count": 11,
   "id": "8a01540f-b5fc-4428-92a5-2908ad13324a",
   "metadata": {},
   "outputs": [],
   "source": [
    "df_articles_meta_agg = df_articles_meta.groupby(\n",
    "    [\"date\", \"symbol\"]\n",
    ").apply(\n",
    "    lambda x: x.index.tolist(), \n",
    "    include_groups=False\n",
    ").to_frame(\n",
    "    \"indices\"\n",
    ").reset_index()\n",
    "\n",
    "df_articles_meta_agg = df_articles_meta_agg.sort_values(\n",
    "    [\"symbol\", \"date\"],\n",
    "    ignore_index=True\n",
    ")\n",
    "\n",
    "# We can respond to today's news tomorrow\n",
    "df_articles_meta_agg[\"date\"] += pd.Timedelta(\"1d\")\n",
    "\n",
    "# Conforming to df_ret\n",
    "df_articles_meta_agg = df_articles_meta_agg.set_index(\n",
    "    [\"symbol\", \"date\"]\n",
    ")\n",
    "df_articles_meta_agg = df_articles_meta_agg.reindex(\n",
    "    df_ret.set_index([\"symbol\", \"date\"]).index\n",
    ")"
   ]
  },
  {
   "cell_type": "code",
   "execution_count": 12,
   "id": "c5d9afaa-bbd4-47b5-9523-77368eaf683a",
   "metadata": {},
   "outputs": [
    {
     "data": {
      "text/plain": [
       "True"
      ]
     },
     "execution_count": 12,
     "metadata": {},
     "output_type": "execute_result"
    }
   ],
   "source": [
    "# Should be the case\n",
    "df_articles_meta_agg.shape[0] == df_ret.shape[0]"
   ]
  },
  {
   "cell_type": "code",
   "execution_count": 13,
   "id": "8f20652b-38da-4236-a767-44ac96e6ac75",
   "metadata": {},
   "outputs": [],
   "source": [
    "articles_agg = torch.stack(\n",
    "    [\n",
    "        articles[x].mean(axis=0) if ~np.isnan(x).all() else torch.zeros_like(articles[0])\n",
    "        for x in df_articles_meta_agg[\"indices\"].tolist()\n",
    "    ],\n",
    "    axis=0\n",
    ")"
   ]
  },
  {
   "cell_type": "markdown",
   "id": "8f9d40c1-0552-405c-b20d-3f64386eaa0f",
   "metadata": {},
   "source": [
    "# Model Config"
   ]
  },
  {
   "cell_type": "code",
   "execution_count": 14,
   "id": "262c884d-d2fe-4de8-bd6e-66e2f040f1d8",
   "metadata": {},
   "outputs": [],
   "source": [
    "prediction_length = holding_period\n",
    "context_length = 64 # How many articles from the past we are using\n",
    "distribution_output = \"normal\"\n",
    "input_size = 1  # Univariate model\n",
    "lags_sequence = [1]  # Not adding lags as additional features\n",
    "scaling = None  # Data is already scaled\n",
    "d_model = articles.shape[-1]  # Ease of use \n",
    "freq = \"1d\"\n",
    "\n",
    "dropout = 0.2\n",
    "encoder_layers = 4\n",
    "decoder_layers = 4\n",
    "num_parallel_samples = 25"
   ]
  },
  {
   "cell_type": "code",
   "execution_count": 15,
   "id": "70541867-96f5-4dd9-ba99-efd0fab1c8f0",
   "metadata": {},
   "outputs": [],
   "source": [
    "time_features = time_features_from_frequency_str(freq)"
   ]
  },
  {
   "cell_type": "code",
   "execution_count": 16,
   "id": "e5f93a58-e8f6-4e4d-bda5-186f95647897",
   "metadata": {},
   "outputs": [],
   "source": [
    "model_config = InformerConfig(\n",
    "    prediction_length=holding_period,\n",
    "    context_length=context_length,\n",
    "    input_size=input_size,\n",
    "    lags_sequence=lags_sequence,\n",
    "    scaling=scaling,\n",
    "    num_time_features=len(time_features) + 1,\n",
    "    dropout=dropout,\n",
    "    encoder_layers=encoder_layers,\n",
    "    decoder_layers=decoder_layers,\n",
    "    d_model=d_model,\n",
    "    distribution_output=distribution_output,\n",
    "    num_parallel_samples=num_parallel_samples\n",
    ")"
   ]
  },
  {
   "cell_type": "markdown",
   "id": "a84c8331-12ef-4ad7-8e6c-e9f1fa00f2cd",
   "metadata": {},
   "source": [
    "# Data"
   ]
  },
  {
   "cell_type": "code",
   "execution_count": 17,
   "id": "e2a03590-f3c5-4fba-a172-f54b71b8b4ae",
   "metadata": {},
   "outputs": [],
   "source": [
    "batch_size = 64"
   ]
  },
  {
   "cell_type": "code",
   "execution_count": 18,
   "id": "69111be7-8ae5-440e-9f8f-a14e9db10268",
   "metadata": {},
   "outputs": [],
   "source": [
    "idc = InformerFusionDataset(\n",
    "    input_size=input_size,\n",
    "    d_model=d_model,\n",
    "    context_length=context_length,\n",
    "    prediction_length=prediction_length,\n",
    "    dropout=dropout,\n",
    "    encoder_layers=encoder_layers,\n",
    "    decoder_layers=decoder_layers,\n",
    "    lags_sequence=lags_sequence,\n",
    "    distribution_output=distribution_output,\n",
    "    scaling=scaling,\n",
    "    freq=freq\n",
    ")"
   ]
  },
  {
   "cell_type": "code",
   "execution_count": 19,
   "id": "979174fa-ad10-4edd-85dc-1fb8ec79c3e4",
   "metadata": {},
   "outputs": [],
   "source": [
    "ds_train = idc.create_dataloader(\n",
    "    df=df_ret.loc[\n",
    "        df_ret[\"date\"] < val_start\n",
    "    ],\n",
    "    articles_agg=articles_agg,\n",
    "    mode=\"train\",\n",
    "    num_instances=2_000,\n",
    "    batch_size=batch_size\n",
    ")\n",
    "\n",
    "ds_val = idc.create_dataloader(\n",
    "    df=df_ret.loc[\n",
    "        (df_ret[\"date\"] >= val_start)\n",
    "        & (df_ret[\"date\"] < test_start)\n",
    "    ],\n",
    "    articles_agg=articles_agg,\n",
    "    mode=\"validation\",\n",
    "    batch_size=batch_size\n",
    ")\n",
    "\n",
    "ds_test = idc.create_dataloader(\n",
    "    df=df_ret.loc[\n",
    "        (df_ret[\"date\"] >= test_start)\n",
    "    ],\n",
    "    articles_agg=articles_agg,\n",
    "    mode=\"test\",\n",
    "    batch_size=batch_size\n",
    ")"
   ]
  },
  {
   "cell_type": "markdown",
   "id": "8f9c1ce5-12cd-4e5f-a2dd-417eef1bd244",
   "metadata": {},
   "source": [
    "# Model: `InformerFusionModel`\n",
    "\n",
    "A modified implementation of `InformerForPrediction` from `transformers` package:\n",
    "- Adds an option to feed article embeddings."
   ]
  },
  {
   "cell_type": "code",
   "execution_count": 20,
   "id": "8bf68888-e455-4b63-9da7-ed5df1e8b8b9",
   "metadata": {},
   "outputs": [],
   "source": [
    "model = InformerFusionModel(\n",
    "    config=model_config\n",
    ")"
   ]
  },
  {
   "cell_type": "code",
   "execution_count": 21,
   "id": "8f6cad2b-b1de-4c44-a3cc-ed1855cc8c89",
   "metadata": {},
   "outputs": [],
   "source": [
    "epochs = 50\n",
    "\n",
    "cur_timestamp = pd.Timestamp.now().strftime('%d_%m_%Y_%H_%M_%S')\n",
    "model_save_dir = os.path.join(\n",
    "    \"models\",\n",
    "    \"InformerFusion\",\n",
    "    cur_timestamp\n",
    ")\n",
    "os.makedirs(model_save_dir, exist_ok=True)"
   ]
  },
  {
   "cell_type": "code",
   "execution_count": 22,
   "id": "80bdf163-8486-425d-9483-40b4bc1aa9d3",
   "metadata": {},
   "outputs": [],
   "source": [
    "optimizer = AdamW(model.parameters(), lr=5e-4, betas=(0.9, 0.95), weight_decay=1e-1)"
   ]
  },
  {
   "cell_type": "code",
   "execution_count": 24,
   "id": "64ac6980-27be-44ed-a320-0b1a6b98d8ed",
   "metadata": {},
   "outputs": [
    {
     "data": {
      "application/vnd.jupyter.widget-view+json": {
       "model_id": "2b0ecc0d867843719c6c1c34e564f029",
       "version_major": 2,
       "version_minor": 0
      },
      "text/plain": [
       "0it [00:00, ?it/s]"
      ]
     },
     "metadata": {},
     "output_type": "display_data"
    },
    {
     "data": {
      "application/vnd.jupyter.widget-view+json": {
       "model_id": "5d561342dca3478493a852f266bc010c",
       "version_major": 2,
       "version_minor": 0
      },
      "text/plain": [
       "0it [00:00, ?it/s]"
      ]
     },
     "metadata": {},
     "output_type": "display_data"
    },
    {
     "name": "stdout",
     "output_type": "stream",
     "text": [
      "Epoch [1/50], Train Loss: 5.4304, Val Accuracy: 0.4913, Val MAE Loss: 0.0366, Precision: 0.4545, Recall: 0.2107, F1: 0.2879, ROC AUC: 0.4848\n"
     ]
    },
    {
     "data": {
      "application/vnd.jupyter.widget-view+json": {
       "model_id": "d3c391bb6dc346f2a85f48d2b5f437c8",
       "version_major": 2,
       "version_minor": 0
      },
      "text/plain": [
       "0it [00:00, ?it/s]"
      ]
     },
     "metadata": {},
     "output_type": "display_data"
    },
    {
     "data": {
      "application/vnd.jupyter.widget-view+json": {
       "model_id": "d81f5a5252d84d2aa3e9bcc8301c2230",
       "version_major": 2,
       "version_minor": 0
      },
      "text/plain": [
       "0it [00:00, ?it/s]"
      ]
     },
     "metadata": {},
     "output_type": "display_data"
    },
    {
     "name": "stdout",
     "output_type": "stream",
     "text": [
      "Epoch [2/50], Train Loss: 0.3427, Val Accuracy: 0.4881, Val MAE Loss: 0.0497, Precision: 0.4881, Recall: 1.0000, F1: 0.6560, ROC AUC: 0.5000\n"
     ]
    },
    {
     "data": {
      "application/vnd.jupyter.widget-view+json": {
       "model_id": "61be627004304dbfb41afa32d15d5f97",
       "version_major": 2,
       "version_minor": 0
      },
      "text/plain": [
       "0it [00:00, ?it/s]"
      ]
     },
     "metadata": {},
     "output_type": "display_data"
    },
    {
     "data": {
      "application/vnd.jupyter.widget-view+json": {
       "model_id": "49225d0c3af34bdf90f5740ea711a401",
       "version_major": 2,
       "version_minor": 0
      },
      "text/plain": [
       "0it [00:00, ?it/s]"
      ]
     },
     "metadata": {},
     "output_type": "display_data"
    },
    {
     "name": "stdout",
     "output_type": "stream",
     "text": [
      "Epoch [3/50], Train Loss: -0.3821, Val Accuracy: 0.5000, Val MAE Loss: 0.0159, Precision: 0.4935, Recall: 0.9222, F1: 0.6429, ROC AUC: 0.5098\n"
     ]
    },
    {
     "data": {
      "application/vnd.jupyter.widget-view+json": {
       "model_id": "a83a8ccfb5494bcba3d196e153108a37",
       "version_major": 2,
       "version_minor": 0
      },
      "text/plain": [
       "0it [00:00, ?it/s]"
      ]
     },
     "metadata": {},
     "output_type": "display_data"
    },
    {
     "data": {
      "application/vnd.jupyter.widget-view+json": {
       "model_id": "dd5601cf7e034477928920b5f813e2e3",
       "version_major": 2,
       "version_minor": 0
      },
      "text/plain": [
       "0it [00:00, ?it/s]"
      ]
     },
     "metadata": {},
     "output_type": "display_data"
    },
    {
     "name": "stdout",
     "output_type": "stream",
     "text": [
      "Epoch [4/50], Train Loss: -0.7310, Val Accuracy: 0.4889, Val MAE Loss: 0.0162, Precision: 0.4885, Recall: 1.0000, F1: 0.6564, ROC AUC: 0.5008\n"
     ]
    },
    {
     "data": {
      "application/vnd.jupyter.widget-view+json": {
       "model_id": "eca598e1c23c49689b3108b96fa7c1f9",
       "version_major": 2,
       "version_minor": 0
      },
      "text/plain": [
       "0it [00:00, ?it/s]"
      ]
     },
     "metadata": {},
     "output_type": "display_data"
    },
    {
     "data": {
      "application/vnd.jupyter.widget-view+json": {
       "model_id": "192a13fe041b43faa2ee4df57bc62855",
       "version_major": 2,
       "version_minor": 0
      },
      "text/plain": [
       "0it [00:00, ?it/s]"
      ]
     },
     "metadata": {},
     "output_type": "display_data"
    },
    {
     "name": "stdout",
     "output_type": "stream",
     "text": [
      "Epoch [5/50], Train Loss: -0.7791, Val Accuracy: 0.5222, Val MAE Loss: 0.0139, Precision: 0.5080, Recall: 0.6694, F1: 0.5776, ROC AUC: 0.5256\n"
     ]
    },
    {
     "data": {
      "application/vnd.jupyter.widget-view+json": {
       "model_id": "70a99674217b404897e37db44672c3ec",
       "version_major": 2,
       "version_minor": 0
      },
      "text/plain": [
       "0it [00:00, ?it/s]"
      ]
     },
     "metadata": {},
     "output_type": "display_data"
    },
    {
     "data": {
      "application/vnd.jupyter.widget-view+json": {
       "model_id": "739da3b998254418ba773021a0b84669",
       "version_major": 2,
       "version_minor": 0
      },
      "text/plain": [
       "0it [00:00, ?it/s]"
      ]
     },
     "metadata": {},
     "output_type": "display_data"
    },
    {
     "name": "stdout",
     "output_type": "stream",
     "text": [
      "Epoch [6/50], Train Loss: -1.0568, Val Accuracy: 0.5190, Val MAE Loss: 0.0128, Precision: 0.5047, Recall: 0.7780, F1: 0.6122, ROC AUC: 0.5250\n"
     ]
    },
    {
     "data": {
      "application/vnd.jupyter.widget-view+json": {
       "model_id": "87e984f7bd434502b7c569cda9f39434",
       "version_major": 2,
       "version_minor": 0
      },
      "text/plain": [
       "0it [00:00, ?it/s]"
      ]
     },
     "metadata": {},
     "output_type": "display_data"
    },
    {
     "data": {
      "application/vnd.jupyter.widget-view+json": {
       "model_id": "d79f8863fb2b4c01aabb8cb81180fa97",
       "version_major": 2,
       "version_minor": 0
      },
      "text/plain": [
       "0it [00:00, ?it/s]"
      ]
     },
     "metadata": {},
     "output_type": "display_data"
    },
    {
     "name": "stdout",
     "output_type": "stream",
     "text": [
      "Epoch [7/50], Train Loss: -0.9540, Val Accuracy: 0.5150, Val MAE Loss: 0.0135, Precision: 0.8333, Recall: 0.0081, F1: 0.0161, ROC AUC: 0.5033\n"
     ]
    },
    {
     "data": {
      "application/vnd.jupyter.widget-view+json": {
       "model_id": "5ec610fa087744dd946ff7dd02b4e37d",
       "version_major": 2,
       "version_minor": 0
      },
      "text/plain": [
       "0it [00:00, ?it/s]"
      ]
     },
     "metadata": {},
     "output_type": "display_data"
    },
    {
     "data": {
      "application/vnd.jupyter.widget-view+json": {
       "model_id": "f804cb68e9db4f72985c6d6ac9960a61",
       "version_major": 2,
       "version_minor": 0
      },
      "text/plain": [
       "0it [00:00, ?it/s]"
      ]
     },
     "metadata": {},
     "output_type": "display_data"
    },
    {
     "name": "stdout",
     "output_type": "stream",
     "text": [
      "Epoch [8/50], Train Loss: -0.7981, Val Accuracy: 0.5206, Val MAE Loss: 0.0128, Precision: 0.5057, Recall: 0.7925, F1: 0.6174, ROC AUC: 0.5269\n"
     ]
    },
    {
     "data": {
      "application/vnd.jupyter.widget-view+json": {
       "model_id": "5fbc34ef90874b53b3018f6f5c830406",
       "version_major": 2,
       "version_minor": 0
      },
      "text/plain": [
       "0it [00:00, ?it/s]"
      ]
     },
     "metadata": {},
     "output_type": "display_data"
    },
    {
     "data": {
      "application/vnd.jupyter.widget-view+json": {
       "model_id": "457cefc31a6e4bdc841c7bd46828d849",
       "version_major": 2,
       "version_minor": 0
      },
      "text/plain": [
       "0it [00:00, ?it/s]"
      ]
     },
     "metadata": {},
     "output_type": "display_data"
    },
    {
     "name": "stdout",
     "output_type": "stream",
     "text": [
      "Epoch [9/50], Train Loss: -0.9480, Val Accuracy: 0.4881, Val MAE Loss: 0.0177, Precision: 0.4881, Recall: 1.0000, F1: 0.6560, ROC AUC: 0.5000\n"
     ]
    },
    {
     "data": {
      "application/vnd.jupyter.widget-view+json": {
       "model_id": "62fb7cbea346446690271aa98baffd36",
       "version_major": 2,
       "version_minor": 0
      },
      "text/plain": [
       "0it [00:00, ?it/s]"
      ]
     },
     "metadata": {},
     "output_type": "display_data"
    },
    {
     "data": {
      "application/vnd.jupyter.widget-view+json": {
       "model_id": "2fb4e968add048078df36e090c6d35cb",
       "version_major": 2,
       "version_minor": 0
      },
      "text/plain": [
       "0it [00:00, ?it/s]"
      ]
     },
     "metadata": {},
     "output_type": "display_data"
    },
    {
     "name": "stdout",
     "output_type": "stream",
     "text": [
      "Epoch [10/50], Train Loss: -1.1023, Val Accuracy: 0.4881, Val MAE Loss: 0.0147, Precision: 0.4881, Recall: 1.0000, F1: 0.6560, ROC AUC: 0.5000\n"
     ]
    },
    {
     "data": {
      "application/vnd.jupyter.widget-view+json": {
       "model_id": "e109191ad01f426988224f86eb067fb8",
       "version_major": 2,
       "version_minor": 0
      },
      "text/plain": [
       "0it [00:00, ?it/s]"
      ]
     },
     "metadata": {},
     "output_type": "display_data"
    },
    {
     "data": {
      "application/vnd.jupyter.widget-view+json": {
       "model_id": "de81f30aefac4565bc421d70c39fa1b7",
       "version_major": 2,
       "version_minor": 0
      },
      "text/plain": [
       "0it [00:00, ?it/s]"
      ]
     },
     "metadata": {},
     "output_type": "display_data"
    },
    {
     "name": "stdout",
     "output_type": "stream",
     "text": [
      "Epoch [11/50], Train Loss: -1.0738, Val Accuracy: 0.4858, Val MAE Loss: 0.0135, Precision: 0.4869, Recall: 0.9919, F1: 0.6531, ROC AUC: 0.4975\n"
     ]
    },
    {
     "data": {
      "application/vnd.jupyter.widget-view+json": {
       "model_id": "e590b05612a440c8b9fb1e97739090c5",
       "version_major": 2,
       "version_minor": 0
      },
      "text/plain": [
       "0it [00:00, ?it/s]"
      ]
     },
     "metadata": {},
     "output_type": "display_data"
    },
    {
     "data": {
      "application/vnd.jupyter.widget-view+json": {
       "model_id": "29a215e8dc04462b9ab42df14eab7ab5",
       "version_major": 2,
       "version_minor": 0
      },
      "text/plain": [
       "0it [00:00, ?it/s]"
      ]
     },
     "metadata": {},
     "output_type": "display_data"
    },
    {
     "name": "stdout",
     "output_type": "stream",
     "text": [
      "Epoch [12/50], Train Loss: -0.9059, Val Accuracy: 0.4881, Val MAE Loss: 0.0171, Precision: 0.4881, Recall: 1.0000, F1: 0.6560, ROC AUC: 0.5000\n"
     ]
    },
    {
     "data": {
      "application/vnd.jupyter.widget-view+json": {
       "model_id": "098313d020534959ab1a342ce4ea79c9",
       "version_major": 2,
       "version_minor": 0
      },
      "text/plain": [
       "0it [00:00, ?it/s]"
      ]
     },
     "metadata": {},
     "output_type": "display_data"
    },
    {
     "data": {
      "application/vnd.jupyter.widget-view+json": {
       "model_id": "176b848069484c889b36dcb0438acbc0",
       "version_major": 2,
       "version_minor": 0
      },
      "text/plain": [
       "0it [00:00, ?it/s]"
      ]
     },
     "metadata": {},
     "output_type": "display_data"
    },
    {
     "name": "stdout",
     "output_type": "stream",
     "text": [
      "Epoch [13/50], Train Loss: -1.1188, Val Accuracy: 0.4881, Val MAE Loss: 0.0162, Precision: 0.4881, Recall: 1.0000, F1: 0.6560, ROC AUC: 0.5000\n"
     ]
    },
    {
     "data": {
      "application/vnd.jupyter.widget-view+json": {
       "model_id": "def0b5d558934940a35a45c91530a065",
       "version_major": 2,
       "version_minor": 0
      },
      "text/plain": [
       "0it [00:00, ?it/s]"
      ]
     },
     "metadata": {},
     "output_type": "display_data"
    },
    {
     "data": {
      "application/vnd.jupyter.widget-view+json": {
       "model_id": "55fae1ed0ce948e9a21f99fdce8bcd86",
       "version_major": 2,
       "version_minor": 0
      },
      "text/plain": [
       "0it [00:00, ?it/s]"
      ]
     },
     "metadata": {},
     "output_type": "display_data"
    },
    {
     "name": "stdout",
     "output_type": "stream",
     "text": [
      "Epoch [14/50], Train Loss: -1.0887, Val Accuracy: 0.4881, Val MAE Loss: 0.0139, Precision: 0.4881, Recall: 1.0000, F1: 0.6560, ROC AUC: 0.5000\n"
     ]
    },
    {
     "data": {
      "application/vnd.jupyter.widget-view+json": {
       "model_id": "10d2ffa7bfe844b69a4d6d3caddf1bf3",
       "version_major": 2,
       "version_minor": 0
      },
      "text/plain": [
       "0it [00:00, ?it/s]"
      ]
     },
     "metadata": {},
     "output_type": "display_data"
    },
    {
     "data": {
      "application/vnd.jupyter.widget-view+json": {
       "model_id": "8d35346225664fd7bb4a097f55b2cacc",
       "version_major": 2,
       "version_minor": 0
      },
      "text/plain": [
       "0it [00:00, ?it/s]"
      ]
     },
     "metadata": {},
     "output_type": "display_data"
    },
    {
     "name": "stdout",
     "output_type": "stream",
     "text": [
      "Epoch [15/50], Train Loss: -1.1950, Val Accuracy: 0.5119, Val MAE Loss: 0.0156, Precision: 0.0000, Recall: 0.0000, F1: 0.0000, ROC AUC: 0.5000\n"
     ]
    },
    {
     "name": "stderr",
     "output_type": "stream",
     "text": [
      "/opt/conda/lib/python3.11/site-packages/sklearn/metrics/_classification.py:1531: UndefinedMetricWarning: Precision is ill-defined and being set to 0.0 due to no predicted samples. Use `zero_division` parameter to control this behavior.\n",
      "  _warn_prf(average, modifier, f\"{metric.capitalize()} is\", len(result))\n"
     ]
    },
    {
     "data": {
      "application/vnd.jupyter.widget-view+json": {
       "model_id": "61904a3f61d94385a2b7e58663dfef41",
       "version_major": 2,
       "version_minor": 0
      },
      "text/plain": [
       "0it [00:00, ?it/s]"
      ]
     },
     "metadata": {},
     "output_type": "display_data"
    },
    {
     "data": {
      "application/vnd.jupyter.widget-view+json": {
       "model_id": "e1fbb0a69c0f47a5882e114b8ddc54f1",
       "version_major": 2,
       "version_minor": 0
      },
      "text/plain": [
       "0it [00:00, ?it/s]"
      ]
     },
     "metadata": {},
     "output_type": "display_data"
    },
    {
     "name": "stdout",
     "output_type": "stream",
     "text": [
      "Epoch [16/50], Train Loss: -1.2411, Val Accuracy: 0.5261, Val MAE Loss: 0.0126, Precision: 0.5287, Recall: 0.2690, F1: 0.3566, ROC AUC: 0.5201\n"
     ]
    },
    {
     "data": {
      "application/vnd.jupyter.widget-view+json": {
       "model_id": "a982de7c465f40a792bb59189e2a2168",
       "version_major": 2,
       "version_minor": 0
      },
      "text/plain": [
       "0it [00:00, ?it/s]"
      ]
     },
     "metadata": {},
     "output_type": "display_data"
    },
    {
     "data": {
      "application/vnd.jupyter.widget-view+json": {
       "model_id": "d0a36414dfbd417c9470e2da390204e8",
       "version_major": 2,
       "version_minor": 0
      },
      "text/plain": [
       "0it [00:00, ?it/s]"
      ]
     },
     "metadata": {},
     "output_type": "display_data"
    },
    {
     "name": "stdout",
     "output_type": "stream",
     "text": [
      "Epoch [17/50], Train Loss: -1.1502, Val Accuracy: 0.5008, Val MAE Loss: 0.0128, Precision: 0.4943, Recall: 0.9903, F1: 0.6595, ROC AUC: 0.5121\n"
     ]
    },
    {
     "data": {
      "application/vnd.jupyter.widget-view+json": {
       "model_id": "f9d78ea177c14d459e4b7fb92a78d6d9",
       "version_major": 2,
       "version_minor": 0
      },
      "text/plain": [
       "0it [00:00, ?it/s]"
      ]
     },
     "metadata": {},
     "output_type": "display_data"
    },
    {
     "data": {
      "application/vnd.jupyter.widget-view+json": {
       "model_id": "0e8cf808cb314d08af8fe7b732e61800",
       "version_major": 2,
       "version_minor": 0
      },
      "text/plain": [
       "0it [00:00, ?it/s]"
      ]
     },
     "metadata": {},
     "output_type": "display_data"
    },
    {
     "name": "stdout",
     "output_type": "stream",
     "text": [
      "Epoch [18/50], Train Loss: -1.2725, Val Accuracy: 0.4921, Val MAE Loss: 0.0126, Precision: 0.4897, Recall: 0.9676, F1: 0.6503, ROC AUC: 0.5031\n"
     ]
    },
    {
     "data": {
      "application/vnd.jupyter.widget-view+json": {
       "model_id": "6e4c7f8acec34203bc46e53dc7e9349f",
       "version_major": 2,
       "version_minor": 0
      },
      "text/plain": [
       "0it [00:00, ?it/s]"
      ]
     },
     "metadata": {},
     "output_type": "display_data"
    },
    {
     "data": {
      "application/vnd.jupyter.widget-view+json": {
       "model_id": "2a824726470d481eba9344855bdd3484",
       "version_major": 2,
       "version_minor": 0
      },
      "text/plain": [
       "0it [00:00, ?it/s]"
      ]
     },
     "metadata": {},
     "output_type": "display_data"
    },
    {
     "name": "stdout",
     "output_type": "stream",
     "text": [
      "Epoch [19/50], Train Loss: -1.0948, Val Accuracy: 0.4881, Val MAE Loss: 0.0140, Precision: 0.4881, Recall: 1.0000, F1: 0.6560, ROC AUC: 0.5000\n"
     ]
    },
    {
     "data": {
      "application/vnd.jupyter.widget-view+json": {
       "model_id": "ed786750a3af462294fcbb724f097fc9",
       "version_major": 2,
       "version_minor": 0
      },
      "text/plain": [
       "0it [00:00, ?it/s]"
      ]
     },
     "metadata": {},
     "output_type": "display_data"
    },
    {
     "data": {
      "application/vnd.jupyter.widget-view+json": {
       "model_id": "54cea31ff4e8420fa6d7393826590939",
       "version_major": 2,
       "version_minor": 0
      },
      "text/plain": [
       "0it [00:00, ?it/s]"
      ]
     },
     "metadata": {},
     "output_type": "display_data"
    },
    {
     "name": "stdout",
     "output_type": "stream",
     "text": [
      "Epoch [20/50], Train Loss: -1.1965, Val Accuracy: 0.4881, Val MAE Loss: 0.0145, Precision: 0.4881, Recall: 1.0000, F1: 0.6560, ROC AUC: 0.5000\n"
     ]
    },
    {
     "data": {
      "application/vnd.jupyter.widget-view+json": {
       "model_id": "be35bb077b37459e8c99f7ef31153ed7",
       "version_major": 2,
       "version_minor": 0
      },
      "text/plain": [
       "0it [00:00, ?it/s]"
      ]
     },
     "metadata": {},
     "output_type": "display_data"
    },
    {
     "data": {
      "application/vnd.jupyter.widget-view+json": {
       "model_id": "b67c58a2173e47df9eacfedf07a00363",
       "version_major": 2,
       "version_minor": 0
      },
      "text/plain": [
       "0it [00:00, ?it/s]"
      ]
     },
     "metadata": {},
     "output_type": "display_data"
    },
    {
     "name": "stdout",
     "output_type": "stream",
     "text": [
      "Epoch [21/50], Train Loss: -1.3308, Val Accuracy: 0.4826, Val MAE Loss: 0.0125, Precision: 0.4846, Recall: 0.9417, F1: 0.6399, ROC AUC: 0.4932\n"
     ]
    },
    {
     "data": {
      "application/vnd.jupyter.widget-view+json": {
       "model_id": "842709603cd949cb9206b3b5f0988ec0",
       "version_major": 2,
       "version_minor": 0
      },
      "text/plain": [
       "0it [00:00, ?it/s]"
      ]
     },
     "metadata": {},
     "output_type": "display_data"
    },
    {
     "data": {
      "application/vnd.jupyter.widget-view+json": {
       "model_id": "f8bced1d09c54f3d852a151847042f88",
       "version_major": 2,
       "version_minor": 0
      },
      "text/plain": [
       "0it [00:00, ?it/s]"
      ]
     },
     "metadata": {},
     "output_type": "display_data"
    },
    {
     "name": "stdout",
     "output_type": "stream",
     "text": [
      "Epoch [22/50], Train Loss: -1.2071, Val Accuracy: 0.4889, Val MAE Loss: 0.0133, Precision: 0.4885, Recall: 1.0000, F1: 0.6564, ROC AUC: 0.5008\n"
     ]
    },
    {
     "data": {
      "application/vnd.jupyter.widget-view+json": {
       "model_id": "962702af3f104fc8a7fb7b61d4bce039",
       "version_major": 2,
       "version_minor": 0
      },
      "text/plain": [
       "0it [00:00, ?it/s]"
      ]
     },
     "metadata": {},
     "output_type": "display_data"
    },
    {
     "data": {
      "application/vnd.jupyter.widget-view+json": {
       "model_id": "736b222192174848b85e8729381e595f",
       "version_major": 2,
       "version_minor": 0
      },
      "text/plain": [
       "0it [00:00, ?it/s]"
      ]
     },
     "metadata": {},
     "output_type": "display_data"
    },
    {
     "name": "stdout",
     "output_type": "stream",
     "text": [
      "Epoch [23/50], Train Loss: -1.2346, Val Accuracy: 0.5142, Val MAE Loss: 0.0132, Precision: 1.0000, Recall: 0.0049, F1: 0.0097, ROC AUC: 0.5024\n"
     ]
    },
    {
     "data": {
      "application/vnd.jupyter.widget-view+json": {
       "model_id": "3f6bd30e88074be6a57538c10de37c5e",
       "version_major": 2,
       "version_minor": 0
      },
      "text/plain": [
       "0it [00:00, ?it/s]"
      ]
     },
     "metadata": {},
     "output_type": "display_data"
    },
    {
     "data": {
      "application/vnd.jupyter.widget-view+json": {
       "model_id": "8ff9816c680f4c45b503547fd4ac96c2",
       "version_major": 2,
       "version_minor": 0
      },
      "text/plain": [
       "0it [00:00, ?it/s]"
      ]
     },
     "metadata": {},
     "output_type": "display_data"
    },
    {
     "name": "stdout",
     "output_type": "stream",
     "text": [
      "Epoch [24/50], Train Loss: -1.0962, Val Accuracy: 0.5222, Val MAE Loss: 0.0124, Precision: 0.5236, Recall: 0.2334, F1: 0.3229, ROC AUC: 0.5155\n"
     ]
    },
    {
     "data": {
      "application/vnd.jupyter.widget-view+json": {
       "model_id": "2266450e33b74026abcca93c5daf2257",
       "version_major": 2,
       "version_minor": 0
      },
      "text/plain": [
       "0it [00:00, ?it/s]"
      ]
     },
     "metadata": {},
     "output_type": "display_data"
    },
    {
     "data": {
      "application/vnd.jupyter.widget-view+json": {
       "model_id": "15828d546f5e4444a9226d95593b37c6",
       "version_major": 2,
       "version_minor": 0
      },
      "text/plain": [
       "0it [00:00, ?it/s]"
      ]
     },
     "metadata": {},
     "output_type": "display_data"
    },
    {
     "name": "stdout",
     "output_type": "stream",
     "text": [
      "Epoch [25/50], Train Loss: -1.2852, Val Accuracy: 0.5119, Val MAE Loss: 0.0136, Precision: 0.0000, Recall: 0.0000, F1: 0.0000, ROC AUC: 0.5000\n"
     ]
    },
    {
     "name": "stderr",
     "output_type": "stream",
     "text": [
      "/opt/conda/lib/python3.11/site-packages/sklearn/metrics/_classification.py:1531: UndefinedMetricWarning: Precision is ill-defined and being set to 0.0 due to no predicted samples. Use `zero_division` parameter to control this behavior.\n",
      "  _warn_prf(average, modifier, f\"{metric.capitalize()} is\", len(result))\n"
     ]
    },
    {
     "data": {
      "application/vnd.jupyter.widget-view+json": {
       "model_id": "17ee41373eef4109b03d67e88a36cd8c",
       "version_major": 2,
       "version_minor": 0
      },
      "text/plain": [
       "0it [00:00, ?it/s]"
      ]
     },
     "metadata": {},
     "output_type": "display_data"
    },
    {
     "data": {
      "application/vnd.jupyter.widget-view+json": {
       "model_id": "21a664123b644d5bad38d42373e15f36",
       "version_major": 2,
       "version_minor": 0
      },
      "text/plain": [
       "0it [00:00, ?it/s]"
      ]
     },
     "metadata": {},
     "output_type": "display_data"
    },
    {
     "name": "stdout",
     "output_type": "stream",
     "text": [
      "Epoch [26/50], Train Loss: -1.2627, Val Accuracy: 0.4881, Val MAE Loss: 0.0145, Precision: 0.4881, Recall: 1.0000, F1: 0.6560, ROC AUC: 0.5000\n"
     ]
    },
    {
     "data": {
      "application/vnd.jupyter.widget-view+json": {
       "model_id": "8ad81898405e4a3ab816fd9fce88605f",
       "version_major": 2,
       "version_minor": 0
      },
      "text/plain": [
       "0it [00:00, ?it/s]"
      ]
     },
     "metadata": {},
     "output_type": "display_data"
    },
    {
     "data": {
      "application/vnd.jupyter.widget-view+json": {
       "model_id": "23a2f31441f64751b0bc67ed7c07c652",
       "version_major": 2,
       "version_minor": 0
      },
      "text/plain": [
       "0it [00:00, ?it/s]"
      ]
     },
     "metadata": {},
     "output_type": "display_data"
    },
    {
     "name": "stdout",
     "output_type": "stream",
     "text": [
      "Epoch [27/50], Train Loss: -1.2410, Val Accuracy: 0.4818, Val MAE Loss: 0.0124, Precision: 0.4808, Recall: 0.7731, F1: 0.5929, ROC AUC: 0.4886\n"
     ]
    },
    {
     "data": {
      "application/vnd.jupyter.widget-view+json": {
       "model_id": "9215dc83a24b477398e2e592ea6a06f4",
       "version_major": 2,
       "version_minor": 0
      },
      "text/plain": [
       "0it [00:00, ?it/s]"
      ]
     },
     "metadata": {},
     "output_type": "display_data"
    },
    {
     "data": {
      "application/vnd.jupyter.widget-view+json": {
       "model_id": "0ad65d1c7cd74a929c783927b8c924c2",
       "version_major": 2,
       "version_minor": 0
      },
      "text/plain": [
       "0it [00:00, ?it/s]"
      ]
     },
     "metadata": {},
     "output_type": "display_data"
    },
    {
     "name": "stdout",
     "output_type": "stream",
     "text": [
      "Epoch [28/50], Train Loss: -1.2881, Val Accuracy: 0.5119, Val MAE Loss: 0.0147, Precision: 0.0000, Recall: 0.0000, F1: 0.0000, ROC AUC: 0.5000\n"
     ]
    },
    {
     "name": "stderr",
     "output_type": "stream",
     "text": [
      "/opt/conda/lib/python3.11/site-packages/sklearn/metrics/_classification.py:1531: UndefinedMetricWarning: Precision is ill-defined and being set to 0.0 due to no predicted samples. Use `zero_division` parameter to control this behavior.\n",
      "  _warn_prf(average, modifier, f\"{metric.capitalize()} is\", len(result))\n"
     ]
    },
    {
     "data": {
      "application/vnd.jupyter.widget-view+json": {
       "model_id": "b8fe0e8212934f3e97692f8c2e2e141b",
       "version_major": 2,
       "version_minor": 0
      },
      "text/plain": [
       "0it [00:00, ?it/s]"
      ]
     },
     "metadata": {},
     "output_type": "display_data"
    },
    {
     "data": {
      "application/vnd.jupyter.widget-view+json": {
       "model_id": "6a6446b7814844f790b6ac16bc3c210b",
       "version_major": 2,
       "version_minor": 0
      },
      "text/plain": [
       "0it [00:00, ?it/s]"
      ]
     },
     "metadata": {},
     "output_type": "display_data"
    },
    {
     "name": "stdout",
     "output_type": "stream",
     "text": [
      "Epoch [29/50], Train Loss: -1.2952, Val Accuracy: 0.5119, Val MAE Loss: 0.0126, Precision: 0.5000, Recall: 0.0227, F1: 0.0434, ROC AUC: 0.5005\n"
     ]
    },
    {
     "data": {
      "application/vnd.jupyter.widget-view+json": {
       "model_id": "2ba11f28ff59421687de1e104cbed8a3",
       "version_major": 2,
       "version_minor": 0
      },
      "text/plain": [
       "0it [00:00, ?it/s]"
      ]
     },
     "metadata": {},
     "output_type": "display_data"
    },
    {
     "data": {
      "application/vnd.jupyter.widget-view+json": {
       "model_id": "f0fd46bd9ee640e58df84ff1e2efe34b",
       "version_major": 2,
       "version_minor": 0
      },
      "text/plain": [
       "0it [00:00, ?it/s]"
      ]
     },
     "metadata": {},
     "output_type": "display_data"
    },
    {
     "name": "stdout",
     "output_type": "stream",
     "text": [
      "Epoch [30/50], Train Loss: -1.3061, Val Accuracy: 0.4937, Val MAE Loss: 0.0125, Precision: 0.4906, Recall: 0.9692, F1: 0.6514, ROC AUC: 0.5047\n"
     ]
    },
    {
     "data": {
      "application/vnd.jupyter.widget-view+json": {
       "model_id": "8d2bc00feeb94cab80e48893d767afc5",
       "version_major": 2,
       "version_minor": 0
      },
      "text/plain": [
       "0it [00:00, ?it/s]"
      ]
     },
     "metadata": {},
     "output_type": "display_data"
    },
    {
     "data": {
      "application/vnd.jupyter.widget-view+json": {
       "model_id": "8d55d99e5d214b5e800e68c7e433a96f",
       "version_major": 2,
       "version_minor": 0
      },
      "text/plain": [
       "0it [00:00, ?it/s]"
      ]
     },
     "metadata": {},
     "output_type": "display_data"
    },
    {
     "name": "stdout",
     "output_type": "stream",
     "text": [
      "Epoch [31/50], Train Loss: -1.2663, Val Accuracy: 0.4873, Val MAE Loss: 0.0130, Precision: 0.4877, Recall: 0.9984, F1: 0.6553, ROC AUC: 0.4992\n"
     ]
    },
    {
     "data": {
      "application/vnd.jupyter.widget-view+json": {
       "model_id": "14e5d10848664bb39c28c565260450ef",
       "version_major": 2,
       "version_minor": 0
      },
      "text/plain": [
       "0it [00:00, ?it/s]"
      ]
     },
     "metadata": {},
     "output_type": "display_data"
    },
    {
     "data": {
      "application/vnd.jupyter.widget-view+json": {
       "model_id": "3d9ffc83274b4e9e8047e03fa35e5b10",
       "version_major": 2,
       "version_minor": 0
      },
      "text/plain": [
       "0it [00:00, ?it/s]"
      ]
     },
     "metadata": {},
     "output_type": "display_data"
    },
    {
     "name": "stdout",
     "output_type": "stream",
     "text": [
      "Epoch [32/50], Train Loss: -1.3176, Val Accuracy: 0.5119, Val MAE Loss: 0.0142, Precision: 0.0000, Recall: 0.0000, F1: 0.0000, ROC AUC: 0.5000\n"
     ]
    },
    {
     "name": "stderr",
     "output_type": "stream",
     "text": [
      "/opt/conda/lib/python3.11/site-packages/sklearn/metrics/_classification.py:1531: UndefinedMetricWarning: Precision is ill-defined and being set to 0.0 due to no predicted samples. Use `zero_division` parameter to control this behavior.\n",
      "  _warn_prf(average, modifier, f\"{metric.capitalize()} is\", len(result))\n"
     ]
    },
    {
     "data": {
      "application/vnd.jupyter.widget-view+json": {
       "model_id": "7c66c57acd1840498c3f61c67ccbb7ce",
       "version_major": 2,
       "version_minor": 0
      },
      "text/plain": [
       "0it [00:00, ?it/s]"
      ]
     },
     "metadata": {},
     "output_type": "display_data"
    },
    {
     "data": {
      "application/vnd.jupyter.widget-view+json": {
       "model_id": "b0cf3714bab34678a3fd642675d332f8",
       "version_major": 2,
       "version_minor": 0
      },
      "text/plain": [
       "0it [00:00, ?it/s]"
      ]
     },
     "metadata": {},
     "output_type": "display_data"
    },
    {
     "name": "stdout",
     "output_type": "stream",
     "text": [
      "Epoch [33/50], Train Loss: -1.2789, Val Accuracy: 0.5024, Val MAE Loss: 0.0122, Precision: 0.4868, Recall: 0.3582, F1: 0.4127, ROC AUC: 0.4990\n"
     ]
    },
    {
     "data": {
      "application/vnd.jupyter.widget-view+json": {
       "model_id": "8bc94f39b8a6473b88e857b4109235cd",
       "version_major": 2,
       "version_minor": 0
      },
      "text/plain": [
       "0it [00:00, ?it/s]"
      ]
     },
     "metadata": {},
     "output_type": "display_data"
    },
    {
     "data": {
      "application/vnd.jupyter.widget-view+json": {
       "model_id": "3ba55bf17fce4071bd55a05d1616e8b5",
       "version_major": 2,
       "version_minor": 0
      },
      "text/plain": [
       "0it [00:00, ?it/s]"
      ]
     },
     "metadata": {},
     "output_type": "display_data"
    },
    {
     "name": "stdout",
     "output_type": "stream",
     "text": [
      "Epoch [34/50], Train Loss: -1.2710, Val Accuracy: 0.5111, Val MAE Loss: 0.0127, Precision: 0.4286, Recall: 0.0049, F1: 0.0096, ROC AUC: 0.4993\n"
     ]
    },
    {
     "data": {
      "application/vnd.jupyter.widget-view+json": {
       "model_id": "9020b616816d46fa87c2d3ee1caff127",
       "version_major": 2,
       "version_minor": 0
      },
      "text/plain": [
       "0it [00:00, ?it/s]"
      ]
     },
     "metadata": {},
     "output_type": "display_data"
    },
    {
     "data": {
      "application/vnd.jupyter.widget-view+json": {
       "model_id": "4f4644b3e58a4fe38a044d7269ddcdac",
       "version_major": 2,
       "version_minor": 0
      },
      "text/plain": [
       "0it [00:00, ?it/s]"
      ]
     },
     "metadata": {},
     "output_type": "display_data"
    },
    {
     "name": "stdout",
     "output_type": "stream",
     "text": [
      "Epoch [35/50], Train Loss: -1.3209, Val Accuracy: 0.5127, Val MAE Loss: 0.0124, Precision: 0.5217, Recall: 0.0194, F1: 0.0375, ROC AUC: 0.5012\n"
     ]
    },
    {
     "data": {
      "application/vnd.jupyter.widget-view+json": {
       "model_id": "77fc3d9bca80416d9ee7bca1d9f7c299",
       "version_major": 2,
       "version_minor": 0
      },
      "text/plain": [
       "0it [00:00, ?it/s]"
      ]
     },
     "metadata": {},
     "output_type": "display_data"
    },
    {
     "data": {
      "application/vnd.jupyter.widget-view+json": {
       "model_id": "e356d626e25f4b96bdef13e94f8e1b85",
       "version_major": 2,
       "version_minor": 0
      },
      "text/plain": [
       "0it [00:00, ?it/s]"
      ]
     },
     "metadata": {},
     "output_type": "display_data"
    },
    {
     "name": "stdout",
     "output_type": "stream",
     "text": [
      "Epoch [36/50], Train Loss: -1.1928, Val Accuracy: 0.4810, Val MAE Loss: 0.0122, Precision: 0.4824, Recall: 0.8639, F1: 0.6190, ROC AUC: 0.4899\n"
     ]
    },
    {
     "data": {
      "application/vnd.jupyter.widget-view+json": {
       "model_id": "3793cc1b334d4dba857fdb0754f7546b",
       "version_major": 2,
       "version_minor": 0
      },
      "text/plain": [
       "0it [00:00, ?it/s]"
      ]
     },
     "metadata": {},
     "output_type": "display_data"
    },
    {
     "data": {
      "application/vnd.jupyter.widget-view+json": {
       "model_id": "8824c8d2b96a498d8672fc62170b4f89",
       "version_major": 2,
       "version_minor": 0
      },
      "text/plain": [
       "0it [00:00, ?it/s]"
      ]
     },
     "metadata": {},
     "output_type": "display_data"
    },
    {
     "name": "stdout",
     "output_type": "stream",
     "text": [
      "Epoch [37/50], Train Loss: -1.2897, Val Accuracy: 0.5364, Val MAE Loss: 0.0121, Precision: 0.5201, Recall: 0.6499, F1: 0.5778, ROC AUC: 0.5390\n"
     ]
    },
    {
     "data": {
      "application/vnd.jupyter.widget-view+json": {
       "model_id": "813a6a454e774cbe9108f9e9c29b4282",
       "version_major": 2,
       "version_minor": 0
      },
      "text/plain": [
       "0it [00:00, ?it/s]"
      ]
     },
     "metadata": {},
     "output_type": "display_data"
    },
    {
     "data": {
      "application/vnd.jupyter.widget-view+json": {
       "model_id": "3b7304192b20482e846acbcc9cf6a259",
       "version_major": 2,
       "version_minor": 0
      },
      "text/plain": [
       "0it [00:00, ?it/s]"
      ]
     },
     "metadata": {},
     "output_type": "display_data"
    },
    {
     "name": "stdout",
     "output_type": "stream",
     "text": [
      "Epoch [38/50], Train Loss: -1.2941, Val Accuracy: 0.5119, Val MAE Loss: 0.0125, Precision: 0.5000, Recall: 0.0097, F1: 0.0191, ROC AUC: 0.5002\n"
     ]
    },
    {
     "data": {
      "application/vnd.jupyter.widget-view+json": {
       "model_id": "b010fdcb001e49d7bf758c76399a6118",
       "version_major": 2,
       "version_minor": 0
      },
      "text/plain": [
       "0it [00:00, ?it/s]"
      ]
     },
     "metadata": {},
     "output_type": "display_data"
    },
    {
     "data": {
      "application/vnd.jupyter.widget-view+json": {
       "model_id": "eb7c6de3f2264272b4b74b796551c286",
       "version_major": 2,
       "version_minor": 0
      },
      "text/plain": [
       "0it [00:00, ?it/s]"
      ]
     },
     "metadata": {},
     "output_type": "display_data"
    },
    {
     "name": "stdout",
     "output_type": "stream",
     "text": [
      "Epoch [39/50], Train Loss: -1.4292, Val Accuracy: 0.4881, Val MAE Loss: 0.0127, Precision: 0.4881, Recall: 0.9951, F1: 0.6549, ROC AUC: 0.4999\n"
     ]
    },
    {
     "data": {
      "application/vnd.jupyter.widget-view+json": {
       "model_id": "8d74a4235b9b4c27964c92c781921254",
       "version_major": 2,
       "version_minor": 0
      },
      "text/plain": [
       "0it [00:00, ?it/s]"
      ]
     },
     "metadata": {},
     "output_type": "display_data"
    },
    {
     "data": {
      "application/vnd.jupyter.widget-view+json": {
       "model_id": "10efcadd0e4b42ecaa6232fa36838979",
       "version_major": 2,
       "version_minor": 0
      },
      "text/plain": [
       "0it [00:00, ?it/s]"
      ]
     },
     "metadata": {},
     "output_type": "display_data"
    },
    {
     "name": "stdout",
     "output_type": "stream",
     "text": [
      "Epoch [40/50], Train Loss: -1.2706, Val Accuracy: 0.4945, Val MAE Loss: 0.0124, Precision: 0.4903, Recall: 0.9011, F1: 0.6351, ROC AUC: 0.5039\n"
     ]
    },
    {
     "data": {
      "application/vnd.jupyter.widget-view+json": {
       "model_id": "9161e9c70b0e416fb182ff72d9073f77",
       "version_major": 2,
       "version_minor": 0
      },
      "text/plain": [
       "0it [00:00, ?it/s]"
      ]
     },
     "metadata": {},
     "output_type": "display_data"
    },
    {
     "data": {
      "application/vnd.jupyter.widget-view+json": {
       "model_id": "4d96be6786e14e8ea4baa43198f1a8ce",
       "version_major": 2,
       "version_minor": 0
      },
      "text/plain": [
       "0it [00:00, ?it/s]"
      ]
     },
     "metadata": {},
     "output_type": "display_data"
    },
    {
     "name": "stdout",
     "output_type": "stream",
     "text": [
      "Epoch [41/50], Train Loss: -1.3890, Val Accuracy: 0.5119, Val MAE Loss: 0.0156, Precision: 0.0000, Recall: 0.0000, F1: 0.0000, ROC AUC: 0.5000\n"
     ]
    },
    {
     "name": "stderr",
     "output_type": "stream",
     "text": [
      "/opt/conda/lib/python3.11/site-packages/sklearn/metrics/_classification.py:1531: UndefinedMetricWarning: Precision is ill-defined and being set to 0.0 due to no predicted samples. Use `zero_division` parameter to control this behavior.\n",
      "  _warn_prf(average, modifier, f\"{metric.capitalize()} is\", len(result))\n"
     ]
    },
    {
     "data": {
      "application/vnd.jupyter.widget-view+json": {
       "model_id": "329153dcbad448ee890294fca30a7c26",
       "version_major": 2,
       "version_minor": 0
      },
      "text/plain": [
       "0it [00:00, ?it/s]"
      ]
     },
     "metadata": {},
     "output_type": "display_data"
    },
    {
     "data": {
      "application/vnd.jupyter.widget-view+json": {
       "model_id": "f56859667e5c4f29a3c2d8909a3712c2",
       "version_major": 2,
       "version_minor": 0
      },
      "text/plain": [
       "0it [00:00, ?it/s]"
      ]
     },
     "metadata": {},
     "output_type": "display_data"
    },
    {
     "name": "stdout",
     "output_type": "stream",
     "text": [
      "Epoch [42/50], Train Loss: -1.2856, Val Accuracy: 0.4881, Val MAE Loss: 0.0122, Precision: 0.4860, Recall: 0.8412, F1: 0.6160, ROC AUC: 0.4963\n"
     ]
    },
    {
     "data": {
      "application/vnd.jupyter.widget-view+json": {
       "model_id": "f0db2ce01e5645f48d8717db3ffd6cb1",
       "version_major": 2,
       "version_minor": 0
      },
      "text/plain": [
       "0it [00:00, ?it/s]"
      ]
     },
     "metadata": {},
     "output_type": "display_data"
    },
    {
     "data": {
      "application/vnd.jupyter.widget-view+json": {
       "model_id": "d69963a49044458a883a8e7d7b7e7867",
       "version_major": 2,
       "version_minor": 0
      },
      "text/plain": [
       "0it [00:00, ?it/s]"
      ]
     },
     "metadata": {},
     "output_type": "display_data"
    },
    {
     "name": "stdout",
     "output_type": "stream",
     "text": [
      "Epoch [43/50], Train Loss: -1.3563, Val Accuracy: 0.5119, Val MAE Loss: 0.0125, Precision: 0.5000, Recall: 0.0097, F1: 0.0191, ROC AUC: 0.5002\n"
     ]
    },
    {
     "data": {
      "application/vnd.jupyter.widget-view+json": {
       "model_id": "cb4fe4b3690f4a639842d119b38a3433",
       "version_major": 2,
       "version_minor": 0
      },
      "text/plain": [
       "0it [00:00, ?it/s]"
      ]
     },
     "metadata": {},
     "output_type": "display_data"
    },
    {
     "data": {
      "application/vnd.jupyter.widget-view+json": {
       "model_id": "a0883a0ecb284822b96d09e29c9e40a7",
       "version_major": 2,
       "version_minor": 0
      },
      "text/plain": [
       "0it [00:00, ?it/s]"
      ]
     },
     "metadata": {},
     "output_type": "display_data"
    },
    {
     "name": "stdout",
     "output_type": "stream",
     "text": [
      "Epoch [44/50], Train Loss: -1.2292, Val Accuracy: 0.5111, Val MAE Loss: 0.0127, Precision: 0.3333, Recall: 0.0016, F1: 0.0032, ROC AUC: 0.4993\n"
     ]
    },
    {
     "data": {
      "application/vnd.jupyter.widget-view+json": {
       "model_id": "a2e3538559224ab8a08d67f966019482",
       "version_major": 2,
       "version_minor": 0
      },
      "text/plain": [
       "0it [00:00, ?it/s]"
      ]
     },
     "metadata": {},
     "output_type": "display_data"
    },
    {
     "data": {
      "application/vnd.jupyter.widget-view+json": {
       "model_id": "afb6d22d89984d6687e24ae0e6bd7412",
       "version_major": 2,
       "version_minor": 0
      },
      "text/plain": [
       "0it [00:00, ?it/s]"
      ]
     },
     "metadata": {},
     "output_type": "display_data"
    },
    {
     "name": "stdout",
     "output_type": "stream",
     "text": [
      "Epoch [45/50], Train Loss: -1.2680, Val Accuracy: 0.5119, Val MAE Loss: 0.0134, Precision: 0.0000, Recall: 0.0000, F1: 0.0000, ROC AUC: 0.5000\n"
     ]
    },
    {
     "name": "stderr",
     "output_type": "stream",
     "text": [
      "/opt/conda/lib/python3.11/site-packages/sklearn/metrics/_classification.py:1531: UndefinedMetricWarning: Precision is ill-defined and being set to 0.0 due to no predicted samples. Use `zero_division` parameter to control this behavior.\n",
      "  _warn_prf(average, modifier, f\"{metric.capitalize()} is\", len(result))\n"
     ]
    },
    {
     "data": {
      "application/vnd.jupyter.widget-view+json": {
       "model_id": "afb4d2e2922b49558d44140ed561b4e9",
       "version_major": 2,
       "version_minor": 0
      },
      "text/plain": [
       "0it [00:00, ?it/s]"
      ]
     },
     "metadata": {},
     "output_type": "display_data"
    },
    {
     "data": {
      "application/vnd.jupyter.widget-view+json": {
       "model_id": "93247ad05efd415389fe04653a6722a9",
       "version_major": 2,
       "version_minor": 0
      },
      "text/plain": [
       "0it [00:00, ?it/s]"
      ]
     },
     "metadata": {},
     "output_type": "display_data"
    },
    {
     "name": "stdout",
     "output_type": "stream",
     "text": [
      "Epoch [46/50], Train Loss: -1.3291, Val Accuracy: 0.5079, Val MAE Loss: 0.0122, Precision: 0.4828, Recall: 0.1135, F1: 0.1837, ROC AUC: 0.4988\n"
     ]
    },
    {
     "data": {
      "application/vnd.jupyter.widget-view+json": {
       "model_id": "958ccd12fe4b40d08bcc2295a4ed6723",
       "version_major": 2,
       "version_minor": 0
      },
      "text/plain": [
       "0it [00:00, ?it/s]"
      ]
     },
     "metadata": {},
     "output_type": "display_data"
    },
    {
     "data": {
      "application/vnd.jupyter.widget-view+json": {
       "model_id": "339d80dbb745427886bafe91d723ab06",
       "version_major": 2,
       "version_minor": 0
      },
      "text/plain": [
       "0it [00:00, ?it/s]"
      ]
     },
     "metadata": {},
     "output_type": "display_data"
    },
    {
     "name": "stdout",
     "output_type": "stream",
     "text": [
      "Epoch [47/50], Train Loss: -1.3474, Val Accuracy: 0.4937, Val MAE Loss: 0.0125, Precision: 0.4906, Recall: 0.9741, F1: 0.6526, ROC AUC: 0.5048\n",
      "Early stopping triggered.\n"
     ]
    }
   ],
   "source": [
    "train_informer_fusion(\n",
    "    model=model,\n",
    "    optimizer=optimizer,\n",
    "    dataloader_train=ds_train,\n",
    "    dataloader_val=ds_val,\n",
    "    save_dir=model_save_dir,\n",
    "    epochs=epochs\n",
    ")"
   ]
  },
  {
   "cell_type": "markdown",
   "id": "7a97ff2b-d1fb-417a-819a-1dc84e4022e6",
   "metadata": {},
   "source": [
    "## Test Dataset\n",
    "\n",
    "Performance on test set per asset. Marginally better than the baseline model."
   ]
  },
  {
   "cell_type": "code",
   "execution_count": 25,
   "id": "f12ccbd0-1c8b-4801-b7ba-9ebe065c546d",
   "metadata": {},
   "outputs": [],
   "source": [
    "# Reloading the best model\n",
    "chkpoint = torch.load(\n",
    "    os.path.join(model_save_dir, \"best_model.pt\"), \n",
    "    map_location=device,\n",
    "    weights_only=False\n",
    ")\n",
    "\n",
    "model_dict = model.state_dict()\n",
    "\n",
    "model_dict.update(chkpoint)\n",
    "model.load_state_dict(model_dict)\n",
    "_ = model.to(device)"
   ]
  },
  {
   "cell_type": "code",
   "execution_count": 26,
   "id": "7a67b27a-2fda-40ad-85b3-0c7e83d6ee2f",
   "metadata": {},
   "outputs": [],
   "source": [
    "# Dataframe with test results\n",
    "df_test = pd.DataFrame()"
   ]
  },
  {
   "cell_type": "code",
   "execution_count": 27,
   "id": "6e5bb75d-2d27-42fc-92f0-126aef4508ea",
   "metadata": {},
   "outputs": [
    {
     "data": {
      "application/vnd.jupyter.widget-view+json": {
       "model_id": "dd6b0a0932da44f3868845f379a90a24",
       "version_major": 2,
       "version_minor": 0
      },
      "text/plain": [
       "0it [00:00, ?it/s]"
      ]
     },
     "metadata": {},
     "output_type": "display_data"
    }
   ],
   "source": [
    "for batch in tqdm(ds_test):\n",
    "    outputs = model.generate(\n",
    "        past_time_features=torch.Tensor(batch[\"past_time_features\"]).to(device),\n",
    "        past_values=torch.Tensor(batch[\"past_values\"]).to(device),\n",
    "        inputs_fusion=torch.Tensor(batch[\"past_articles\"]).to(device),\n",
    "        future_time_features=torch.Tensor(batch[\"future_time_features\"]).to(device),\n",
    "    )\n",
    "\n",
    "    # Signs of forecasts\n",
    "    outputs_signs = torch.quantile(\n",
    "        torch.sign(torch.sum(outputs[\"sequences\"], axis=-1)),\n",
    "        q=0.5,\n",
    "        dim=-1\n",
    "    )\n",
    "    outputs_signs = (outputs_signs > 0).int()\n",
    "    true_signs = (torch.sign(torch.sum(torch.Tensor(batch[\"future_values\"]), axis=-1)) > 0).int()\n",
    "\n",
    "    cur_df = pd.DataFrame(\n",
    "        {\n",
    "            \"date\": batch['forecast_start'] + pd.Timedelta(f'{context_length + prediction_length + 1}d'),\n",
    "            \"symbol\": batch['item_id'],\n",
    "            \"y\": true_signs.numpy(),\n",
    "            \"y_pred\": outputs_signs.cpu().numpy(),\n",
    "        }\n",
    "    )\n",
    "    df_test = pd.concat([df_test, cur_df])"
   ]
  },
  {
   "cell_type": "code",
   "execution_count": 28,
   "id": "3a739769-f270-467a-ad77-adaebd6c2954",
   "metadata": {},
   "outputs": [],
   "source": [
    "df_test[\"match\"] = (df_test[\"y\"] == df_test[\"y_pred\"])"
   ]
  },
  {
   "cell_type": "code",
   "execution_count": 29,
   "id": "8abf87fd-7e05-4597-8ddc-a785f02b7795",
   "metadata": {},
   "outputs": [
    {
     "name": "stdout",
     "output_type": "stream",
     "text": [
      "Overall Model Accuracy: 0.5416666666666666\n"
     ]
    }
   ],
   "source": [
    "print(f\"Overall Model Accuracy: {df_test[\"match\"].mean()}\")"
   ]
  },
  {
   "cell_type": "code",
   "execution_count": 30,
   "id": "03c7839c-e32f-40cc-a7b9-8423f1a120a1",
   "metadata": {},
   "outputs": [
    {
     "data": {
      "image/png": "[encoded data removed]",
      "text/plain": [
       "<Figure size 640x480 with 1 Axes>"
      ]
     },
     "metadata": {},
     "output_type": "display_data"
    }
   ],
   "source": [
    "df_plot = df_test.groupby(\"symbol\")[\"match\"].agg(\n",
    "    [\"count\", \"mean\"]\n",
    ").rename(columns={\"mean\": \"Accuracy\"}).sort_values(\n",
    "    by=\"Accuracy\", ascending=False\n",
    ")\n",
    "\n",
    "sns.barplot(\n",
    "    data=df_plot.reset_index(),\n",
    "    x=\"symbol\",\n",
    "    y=\"Accuracy\",\n",
    "    order=df_plot.index,\n",
    ")\n",
    "plt.xticks(rotation=45)\n",
    "plt.show()"
   ]
  },
  {
   "cell_type": "code",
   "execution_count": 31,
   "id": "9b28a03f-f80d-4898-bdf1-2cea4d458838",
   "metadata": {},
   "outputs": [],
   "source": [
    "summary_table = {\n",
    "    \"Metric\": [\"Precision\", \"Recall\", \"F1 Score\", \"ROC AUC\"],\n",
    "    \"Overall\": [\n",
    "        precision_score(df_test[\"y\"], df_test[\"y_pred\"], zero_division=np.nan),\n",
    "        recall_score(df_test[\"y\"], df_test[\"y_pred\"]),\n",
    "        f1_score(df_test[\"y\"], df_test[\"y_pred\"]),\n",
    "        roc_auc_score(df_test[\"y\"], df_test[\"y_pred\"])\n",
    "    ]\n",
    "}\n",
    "\n",
    "for symbol, group in df_test.groupby(\"symbol\"):\n",
    "    try:\n",
    "        cur_roc_auc = roc_auc_score(group[\"y\"], group[\"y_pred\"])\n",
    "    except:\n",
    "        cur_roc_auc = None\n",
    "    \n",
    "    summary_table[symbol] = [\n",
    "        precision_score(group[\"y\"], group[\"y_pred\"], zero_division=np.nan),\n",
    "        recall_score(group[\"y\"], group[\"y_pred\"]),\n",
    "        f1_score(group[\"y\"], group[\"y_pred\"]),\n",
    "        cur_roc_auc\n",
    "    ]\n",
    "\n",
    "df_summary = pd.DataFrame(summary_table)"
   ]
  },
  {
   "cell_type": "code",
   "execution_count": 32,
   "id": "d739adb7-dab2-462d-8b47-1b24ac30bb6c",
   "metadata": {},
   "outputs": [
    {
     "data": {
      "text/html": [
       "<div>\n",
       "<style scoped>\n",
       "    .dataframe tbody tr th:only-of-type {\n",
       "        vertical-align: middle;\n",
       "    }\n",
       "\n",
       "    .dataframe tbody tr th {\n",
       "        vertical-align: top;\n",
       "    }\n",
       "\n",
       "    .dataframe thead th {\n",
       "        text-align: right;\n",
       "    }\n",
       "</style>\n",
       "<table border=\"1\" class=\"dataframe\">\n",
       "  <thead>\n",
       "    <tr style=\"text-align: right;\">\n",
       "      <th></th>\n",
       "      <th>Metric</th>\n",
       "      <th>Overall</th>\n",
       "      <th>AAPL</th>\n",
       "      <th>AMD</th>\n",
       "      <th>BABA</th>\n",
       "      <th>BHFAL</th>\n",
       "      <th>BPYPO</th>\n",
       "      <th>DIS</th>\n",
       "      <th>GILD</th>\n",
       "      <th>GOOG</th>\n",
       "      <th>INTC</th>\n",
       "      <th>KO</th>\n",
       "      <th>MRK</th>\n",
       "      <th>MS</th>\n",
       "      <th>MU</th>\n",
       "      <th>NVDA</th>\n",
       "      <th>QQQ</th>\n",
       "      <th>T</th>\n",
       "      <th>TSLA</th>\n",
       "      <th>WFC</th>\n",
       "    </tr>\n",
       "  </thead>\n",
       "  <tbody>\n",
       "    <tr>\n",
       "      <th>0</th>\n",
       "      <td>Precision</td>\n",
       "      <td>0.594364</td>\n",
       "      <td>0.638554</td>\n",
       "      <td>0.783784</td>\n",
       "      <td>0.298701</td>\n",
       "      <td>1.000000</td>\n",
       "      <td>0.916667</td>\n",
       "      <td>0.518519</td>\n",
       "      <td>0.491803</td>\n",
       "      <td>0.470588</td>\n",
       "      <td>0.642857</td>\n",
       "      <td>0.560606</td>\n",
       "      <td>0.428571</td>\n",
       "      <td>0.657143</td>\n",
       "      <td>0.627119</td>\n",
       "      <td>0.528571</td>\n",
       "      <td>0.640000</td>\n",
       "      <td>0.671233</td>\n",
       "      <td>0.701299</td>\n",
       "      <td>0.738462</td>\n",
       "    </tr>\n",
       "    <tr>\n",
       "      <th>1</th>\n",
       "      <td>Recall</td>\n",
       "      <td>0.687068</td>\n",
       "      <td>0.803030</td>\n",
       "      <td>0.794521</td>\n",
       "      <td>0.766667</td>\n",
       "      <td>0.866667</td>\n",
       "      <td>0.785714</td>\n",
       "      <td>0.763636</td>\n",
       "      <td>0.555556</td>\n",
       "      <td>0.551724</td>\n",
       "      <td>0.671642</td>\n",
       "      <td>0.616667</td>\n",
       "      <td>0.687500</td>\n",
       "      <td>0.741935</td>\n",
       "      <td>0.560606</td>\n",
       "      <td>0.660714</td>\n",
       "      <td>0.716418</td>\n",
       "      <td>0.662162</td>\n",
       "      <td>0.729730</td>\n",
       "      <td>0.648649</td>\n",
       "    </tr>\n",
       "    <tr>\n",
       "      <th>2</th>\n",
       "      <td>F1 Score</td>\n",
       "      <td>0.637363</td>\n",
       "      <td>0.711409</td>\n",
       "      <td>0.789116</td>\n",
       "      <td>0.429907</td>\n",
       "      <td>0.928571</td>\n",
       "      <td>0.846154</td>\n",
       "      <td>0.617647</td>\n",
       "      <td>0.521739</td>\n",
       "      <td>0.507937</td>\n",
       "      <td>0.656934</td>\n",
       "      <td>0.587302</td>\n",
       "      <td>0.528000</td>\n",
       "      <td>0.696970</td>\n",
       "      <td>0.592000</td>\n",
       "      <td>0.587302</td>\n",
       "      <td>0.676056</td>\n",
       "      <td>0.666667</td>\n",
       "      <td>0.715232</td>\n",
       "      <td>0.690647</td>\n",
       "    </tr>\n",
       "    <tr>\n",
       "      <th>3</th>\n",
       "      <td>ROC AUC</td>\n",
       "      <td>0.511366</td>\n",
       "      <td>0.526515</td>\n",
       "      <td>0.654836</td>\n",
       "      <td>0.528070</td>\n",
       "      <td>0.933333</td>\n",
       "      <td>0.642857</td>\n",
       "      <td>0.499465</td>\n",
       "      <td>0.479701</td>\n",
       "      <td>0.400862</td>\n",
       "      <td>0.515308</td>\n",
       "      <td>0.493116</td>\n",
       "      <td>0.464440</td>\n",
       "      <td>0.598240</td>\n",
       "      <td>0.505303</td>\n",
       "      <td>0.500357</td>\n",
       "      <td>0.512055</td>\n",
       "      <td>0.456081</td>\n",
       "      <td>0.505490</td>\n",
       "      <td>0.558699</td>\n",
       "    </tr>\n",
       "  </tbody>\n",
       "</table>\n",
       "</div>"
      ],
      "text/plain": [
       "      Metric   Overall      AAPL       AMD      BABA     BHFAL     BPYPO  \\\n",
       "0  Precision  0.594364  0.638554  0.783784  0.298701  1.000000  0.916667   \n",
       "1     Recall  0.687068  0.803030  0.794521  0.766667  0.866667  0.785714   \n",
       "2   F1 Score  0.637363  0.711409  0.789116  0.429907  0.928571  0.846154   \n",
       "3    ROC AUC  0.511366  0.526515  0.654836  0.528070  0.933333  0.642857   \n",
       "\n",
       "        DIS      GILD      GOOG      INTC        KO       MRK        MS  \\\n",
       "0  0.518519  0.491803  0.470588  0.642857  0.560606  0.428571  0.657143   \n",
       "1  0.763636  0.555556  0.551724  0.671642  0.616667  0.687500  0.741935   \n",
       "2  0.617647  0.521739  0.507937  0.656934  0.587302  0.528000  0.696970   \n",
       "3  0.499465  0.479701  0.400862  0.515308  0.493116  0.464440  0.598240   \n",
       "\n",
       "         MU      NVDA       QQQ         T      TSLA       WFC  \n",
       "0  0.627119  0.528571  0.640000  0.671233  0.701299  0.738462  \n",
       "1  0.560606  0.660714  0.716418  0.662162  0.729730  0.648649  \n",
       "2  0.592000  0.587302  0.676056  0.666667  0.715232  0.690647  \n",
       "3  0.505303  0.500357  0.512055  0.456081  0.505490  0.558699  "
      ]
     },
     "execution_count": 32,
     "metadata": {},
     "output_type": "execute_result"
    }
   ],
   "source": [
    "df_summary"
   ]
  },
  {
   "cell_type": "markdown",
   "id": "698dcdd5-8323-47f8-a052-9ab89cb6e717",
   "metadata": {},
   "source": [
    "## Test Dataset - Individual Predictions\n",
    "\n",
    "How the distribution of predictions looks like"
   ]
  },
  {
   "cell_type": "code",
   "execution_count": 33,
   "id": "c4f1c579-6030-40ce-932d-db83f1448d6e",
   "metadata": {},
   "outputs": [],
   "source": [
    "batch = next(iter(ds_test))"
   ]
  },
  {
   "cell_type": "code",
   "execution_count": 34,
   "id": "1f8131aa-a179-4b63-82a0-c5ec8e03c59d",
   "metadata": {},
   "outputs": [],
   "source": [
    "outputs = model.generate(\n",
    "    past_time_features=torch.Tensor(batch[\"past_time_features\"]).to(device),\n",
    "    past_values=torch.Tensor(batch[\"past_values\"]).to(device),\n",
    "    inputs_fusion=torch.Tensor(batch[\"past_articles\"]).to(device),\n",
    "    future_time_features=torch.Tensor(batch[\"future_time_features\"]).to(device),\n",
    ")"
   ]
  },
  {
   "cell_type": "code",
   "execution_count": 35,
   "id": "56132870-aac5-441c-913e-a73acb4e5230",
   "metadata": {},
   "outputs": [],
   "source": [
    "cur_idx = 20"
   ]
  },
  {
   "cell_type": "code",
   "execution_count": 36,
   "id": "43d51dcb-d976-4840-96b3-a3697c1de20d",
   "metadata": {},
   "outputs": [],
   "source": [
    "sim_values = outputs[\"sequences\"][cur_idx].cpu().numpy()"
   ]
  },
  {
   "cell_type": "code",
   "execution_count": 37,
   "id": "a94c3649-39a5-44e0-b145-a2b64f4fca4f",
   "metadata": {},
   "outputs": [],
   "source": [
    "# Calculate quantiles\n",
    "q10 = np.percentile(sim_values, 10, axis=0)\n",
    "q25 = np.percentile(sim_values, 25, axis=0)\n",
    "q50 = np.percentile(sim_values, 50, axis=0)\n",
    "q75 = np.percentile(sim_values, 75, axis=0)\n",
    "q90 = np.percentile(sim_values, 90, axis=0)\n",
    "time = np.arange(sim_values.shape[1])"
   ]
  },
  {
   "cell_type": "code",
   "execution_count": 38,
   "id": "298f7d72-6b75-4a04-b61a-7ebd8e34b5d0",
   "metadata": {},
   "outputs": [
    {
     "data": {
      "image/png": "[encoded data removed]",
      "text/plain": [
       "<Figure size 800x400 with 1 Axes>"
      ]
     },
     "metadata": {},
     "output_type": "display_data"
    }
   ],
   "source": [
    "# Plot\n",
    "fig, ax = plt.subplots(figsize=(8,4))\n",
    "ax.fill_between(time, q10, q90, color='blue', alpha=0.2)\n",
    "ax.fill_between(time, q25, q75, color='blue', alpha=0.2)\n",
    "ax.plot(time, q50, color='blue', label='Predicted Median')\n",
    "ax.plot(time, batch['future_values'][cur_idx], color='red', linewidth=2, label='True')\n",
    "ax.plot(time, batch['future_values'][cur_idx] * 0, color='black', linewidth=1)\n",
    "ax.set_title(\"Fan Chart with True Values\")\n",
    "ax.legend()\n",
    "plt.show()"
   ]
  }
 ],
 "metadata": {
  "kernelspec": {
   "display_name": "Python 3 (ipykernel)",
   "language": "python",
   "name": "python3"
  },
  "language_info": {
   "codemirror_mode": {
    "name": "ipython",
    "version": 3
   },
   "file_extension": ".py",
   "mimetype": "text/x-python",
   "name": "python",
   "nbconvert_exporter": "python",
   "pygments_lexer": "ipython3",
   "version": "3.12.9"
  }
 },
 "nbformat": 4,
 "nbformat_minor": 5
}
